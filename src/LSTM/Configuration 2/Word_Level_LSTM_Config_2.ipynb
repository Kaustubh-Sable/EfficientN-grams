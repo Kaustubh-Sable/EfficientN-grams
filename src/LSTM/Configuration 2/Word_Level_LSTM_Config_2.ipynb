{
  "nbformat": 4,
  "nbformat_minor": 0,
  "metadata": {
    "colab": {
      "name": "Word Level LSTM Config 2.ipynb",
      "provenance": [],
      "collapsed_sections": [],
      "machine_shape": "hm"
    },
    "kernelspec": {
      "name": "python3",
      "display_name": "Python 3"
    },
    "accelerator": "GPU"
  },
  "cells": [
    {
      "cell_type": "markdown",
      "metadata": {
        "id": "yMemBHD5Is_0",
        "colab_type": "text"
      },
      "source": [
        "**Word Level LSTM for trigrams** (sequence length: 2):\n",
        "\n",
        "This model predicts a word given two prior words. The code broadly consists of three parts:\n",
        "\n",
        "*   Training the LSTM model and save it to a file.\n",
        "*   Load the model from the file.\n",
        "*   Calculate the accuracy of the model based on the frequency-based N-gram (trigram in this case) counts.\n",
        "\n",
        "Pros:\n",
        "- Offers less sparsity and shorter sequence lengths in contrast to character-level alternatives.\n",
        "- No post-processing required.\n",
        "- Model trained on sequence length of n-words works well for all values less than n.\n",
        "- Good at capturing long-distance dependencies.\n",
        "\n",
        "Cons:\n",
        "- They are unable to generate a word which is unseen/rare during training, hence, suffer from the Out-Of-Vocabulary (OOV) problem. One solution is to have a large dictionary, but still, that increases the time and space complexity of the network and also, the same problem would appear for every new word.\n",
        "- Softmax used in the output layer is often computationaly intensive.\n",
        "- Harder to model languages with a rich morphology such as Finish, Turkish, Russian etc.."
      ]
    },
    {
      "cell_type": "code",
      "metadata": {
        "id": "b-1WNNP7lkPU",
        "colab_type": "code",
        "outputId": "debfa02d-1fe0-4e9e-967f-15374017ee1a",
        "colab": {
          "base_uri": "https://localhost:8080/",
          "height": 121
        }
      },
      "source": [
        "from google.colab import drive\n",
        "drive.mount(\"/gdrive\")"
      ],
      "execution_count": 1,
      "outputs": [
        {
          "output_type": "stream",
          "text": [
            "Go to this URL in a browser: https://accounts.google.com/o/oauth2/auth?client_id=947318989803-6bn6qk8qdgf4n4g3pfee6491hc0brc4i.apps.googleusercontent.com&redirect_uri=urn%3aietf%3awg%3aoauth%3a2.0%3aoob&response_type=code&scope=email%20https%3a%2f%2fwww.googleapis.com%2fauth%2fdocs.test%20https%3a%2f%2fwww.googleapis.com%2fauth%2fdrive%20https%3a%2f%2fwww.googleapis.com%2fauth%2fdrive.photos.readonly%20https%3a%2f%2fwww.googleapis.com%2fauth%2fpeopleapi.readonly\n",
            "\n",
            "Enter your authorization code:\n",
            "··········\n",
            "Mounted at /gdrive\n"
          ],
          "name": "stdout"
        }
      ]
    },
    {
      "cell_type": "code",
      "metadata": {
        "id": "NTn14jP4lpk_",
        "colab_type": "code",
        "outputId": "7c96a72a-68ab-4e72-8a14-49b8cebfdb8f",
        "colab": {
          "base_uri": "https://localhost:8080/",
          "height": 34
        }
      },
      "source": [
        "cd ../gdrive/My\\ Drive/NLP/Project/Final\\ Project/LSTM/"
      ],
      "execution_count": 2,
      "outputs": [
        {
          "output_type": "stream",
          "text": [
            "/gdrive/My Drive/NLP/Project/Final Project/LSTM\n"
          ],
          "name": "stdout"
        }
      ]
    },
    {
      "cell_type": "code",
      "metadata": {
        "id": "sWOIekeu-n2I",
        "colab_type": "code",
        "outputId": "996228b5-ffbc-4cf3-b905-a75d110151eb",
        "colab": {
          "base_uri": "https://localhost:8080/",
          "height": 269
        }
      },
      "source": [
        "ls"
      ],
      "execution_count": 3,
      "outputs": [
        {
          "output_type": "stream",
          "text": [
            "'10 letters window 10 epochs of LSTM Next word Prediction.ipynb'\n",
            "'10 letters window 30 epochs of LSTM Next word Prediction.ipynb'\n",
            " \u001b[0m\u001b[01;34mcheckpoints\u001b[0m/\n",
            " data.txt\n",
            " examples.txt\n",
            "'LSTM Next word Prediction.ipynb'\n",
            " lstm_train.py\n",
            " model.h5\n",
            " pima_indians.txt\n",
            " republic.txt\n",
            " requirements.txt\n",
            " tokenizer.pkl\n",
            " trigram_model.png\n",
            " vocabulary.txt\n",
            "'Word Level LSTM.ipynb'\n"
          ],
          "name": "stdout"
        }
      ]
    },
    {
      "cell_type": "code",
      "metadata": {
        "id": "dZjH0GA0m60Z",
        "colab_type": "code",
        "colab": {}
      },
      "source": [
        "!pip install tensorflow-gpu==1.14"
      ],
      "execution_count": 0,
      "outputs": []
    },
    {
      "cell_type": "code",
      "metadata": {
        "id": "KmiEDo5n17vK",
        "colab_type": "code",
        "colab": {}
      },
      "source": [
        "from numpy import array\n",
        "from pickle import dump\n",
        "from keras.preprocessing.text import Tokenizer\n",
        "from keras.utils import to_categorical\n",
        "from keras.models import Sequential\n",
        "from keras.layers import Dense\n",
        "from keras.layers import LSTM\n",
        "from keras.layers import Embedding"
      ],
      "execution_count": 0,
      "outputs": []
    },
    {
      "cell_type": "code",
      "metadata": {
        "id": "NuPdxkZ6X1GA",
        "colab_type": "code",
        "colab": {}
      },
      "source": [
        "# load doc into memory\n",
        "def load_doc(filename):\n",
        "\t# open the file as read only\n",
        "\tfile = open(filename, 'r')\n",
        "\t# read all text\n",
        "\ttext = file.read()\n",
        "\t# close the file\n",
        "\tfile.close()\n",
        "\treturn text\n",
        "\n",
        "# load dataset\n",
        "in_filename = 'republic.txt'\n",
        "doc = load_doc(in_filename)\n",
        "lines = doc.split('\\n')\n",
        "\n",
        "# integer encode sequences of words\n",
        "tokenizer = Tokenizer()\n",
        "tokenizer.fit_on_texts(lines)\n",
        "sequences = tokenizer.texts_to_sequences(lines)\n",
        "# vocabulary size\n",
        "vocab_size = len(tokenizer.word_index) + 1"
      ],
      "execution_count": 0,
      "outputs": []
    },
    {
      "cell_type": "code",
      "metadata": {
        "id": "kxKACktEhNQL",
        "colab_type": "code",
        "outputId": "a2ccfaf7-81b9-420a-942f-88b1e3ab3806",
        "colab": {
          "base_uri": "https://localhost:8080/",
          "height": 168
        }
      },
      "source": [
        "sequences[1:10]"
      ],
      "execution_count": 6,
      "outputs": [
        {
          "output_type": "execute_result",
          "data": {
            "text/plain": [
              "[[],\n",
              " [30, 1614, 5, 26, 1, 163, 2, 2549, 2550, 35, 44, 2871, 3, 28],\n",
              " [568, 44, 3940, 4907, 21, 37, 1062, 73, 235, 73, 248, 13],\n",
              " [2551, 163, 73, 157, 1, 379, 2, 1, 286, 264, 1178, 1325],\n",
              " [28, 30, 1614, 13, 3323, 35, 2552, 264, 1404],\n",
              " [],\n",
              " [],\n",
              " [2069, 1, 227],\n",
              " []]"
            ]
          },
          "metadata": {
            "tags": []
          },
          "execution_count": 6
        }
      ]
    },
    {
      "cell_type": "code",
      "metadata": {
        "id": "5a7Df-vKhpZ-",
        "colab_type": "code",
        "colab": {}
      },
      "source": [
        "flat_list = [item for sublist in sequences for item in sublist]"
      ],
      "execution_count": 0,
      "outputs": []
    },
    {
      "cell_type": "code",
      "metadata": {
        "id": "eAOOpT55jARk",
        "colab_type": "code",
        "colab": {}
      },
      "source": [
        "# prepare the dataset of input to output pairs encoded as integers\n",
        "seq_length = 2\n",
        "dataX = []\n",
        "dataY = []\n",
        "for i in range(0, len(flat_list) - seq_length, 1):\n",
        "\tseq_in = flat_list[i:i + seq_length]\n",
        "\tseq_out = flat_list[i + seq_length]\n",
        "\tdataX.append(seq_in)\n",
        "\tdataY.append(seq_out)\n",
        "n_patterns = len(dataX)"
      ],
      "execution_count": 0,
      "outputs": []
    },
    {
      "cell_type": "code",
      "metadata": {
        "id": "rY_Ba1MRjlNF",
        "colab_type": "code",
        "colab": {}
      },
      "source": [
        "dataX = array(dataX)\n",
        "dataY = array(dataY)"
      ],
      "execution_count": 0,
      "outputs": []
    },
    {
      "cell_type": "code",
      "metadata": {
        "id": "bcqbJSLSj9aw",
        "colab_type": "code",
        "outputId": "439d93c7-c004-463a-d188-38ff25c76e30",
        "colab": {
          "base_uri": "https://localhost:8080/",
          "height": 34
        }
      },
      "source": [
        "dataX.shape, dataY.shape"
      ],
      "execution_count": 10,
      "outputs": [
        {
          "output_type": "execute_result",
          "data": {
            "text/plain": [
              "((221275, 2), (221275,))"
            ]
          },
          "metadata": {
            "tags": []
          },
          "execution_count": 10
        }
      ]
    },
    {
      "cell_type": "code",
      "metadata": {
        "id": "zkQJLFWPbqbl",
        "colab_type": "code",
        "outputId": "f7e33328-842c-4fcc-faa4-d43b30a5f68e",
        "colab": {
          "base_uri": "https://localhost:8080/",
          "height": 1000
        }
      },
      "source": [
        "# separate into input and output\n",
        "X, y = dataX, dataY\n",
        "y = to_categorical(y, num_classes=vocab_size)\n",
        "seq_length = dataX.shape[1]\n",
        "\n",
        "# define model\n",
        "model = Sequential()\n",
        "model.add(Embedding(vocab_size, 50, input_length=seq_length))\n",
        "model.add(LSTM(100, return_sequences=True))\n",
        "model.add(LSTM(100))\n",
        "model.add(Dense(100, activation='relu'))\n",
        "model.add(Dense(vocab_size, activation='softmax'))\n",
        "print(model.summary())\n",
        "# compile model\n",
        "model.compile(loss='categorical_crossentropy', optimizer='adam', metrics=['accuracy'])\n",
        "# fit model\n",
        "model.fit(X, y, batch_size=128, epochs=50)\n",
        "\n",
        "# save the model to file\n",
        "model.save('model.h5')\n",
        "# save the tokenizer\n",
        "dump(tokenizer, open('tokenizer.pkl', 'wb'))"
      ],
      "execution_count": 11,
      "outputs": [
        {
          "output_type": "stream",
          "text": [
            "WARNING:tensorflow:From /usr/local/lib/python3.6/dist-packages/keras/backend/tensorflow_backend.py:66: The name tf.get_default_graph is deprecated. Please use tf.compat.v1.get_default_graph instead.\n",
            "\n",
            "WARNING:tensorflow:From /usr/local/lib/python3.6/dist-packages/keras/backend/tensorflow_backend.py:541: The name tf.placeholder is deprecated. Please use tf.compat.v1.placeholder instead.\n",
            "\n",
            "WARNING:tensorflow:From /usr/local/lib/python3.6/dist-packages/keras/backend/tensorflow_backend.py:4432: The name tf.random_uniform is deprecated. Please use tf.random.uniform instead.\n",
            "\n",
            "Model: \"sequential_1\"\n",
            "_________________________________________________________________\n",
            "Layer (type)                 Output Shape              Param #   \n",
            "=================================================================\n",
            "embedding_1 (Embedding)      (None, 2, 50)             551800    \n",
            "_________________________________________________________________\n",
            "lstm_1 (LSTM)                (None, 2, 100)            60400     \n",
            "_________________________________________________________________\n",
            "lstm_2 (LSTM)                (None, 100)               80400     \n",
            "_________________________________________________________________\n",
            "dense_1 (Dense)              (None, 100)               10100     \n",
            "_________________________________________________________________\n",
            "dense_2 (Dense)              (None, 11036)             1114636   \n",
            "=================================================================\n",
            "Total params: 1,817,336\n",
            "Trainable params: 1,817,336\n",
            "Non-trainable params: 0\n",
            "_________________________________________________________________\n",
            "None\n",
            "WARNING:tensorflow:From /usr/local/lib/python3.6/dist-packages/keras/optimizers.py:793: The name tf.train.Optimizer is deprecated. Please use tf.compat.v1.train.Optimizer instead.\n",
            "\n",
            "WARNING:tensorflow:From /usr/local/lib/python3.6/dist-packages/keras/backend/tensorflow_backend.py:3576: The name tf.log is deprecated. Please use tf.math.log instead.\n",
            "\n",
            "WARNING:tensorflow:From /usr/local/lib/python3.6/dist-packages/tensorflow_core/python/ops/math_grad.py:1424: where (from tensorflow.python.ops.array_ops) is deprecated and will be removed in a future version.\n",
            "Instructions for updating:\n",
            "Use tf.where in 2.0, which has the same broadcast rule as np.where\n",
            "WARNING:tensorflow:From /usr/local/lib/python3.6/dist-packages/keras/backend/tensorflow_backend.py:1033: The name tf.assign_add is deprecated. Please use tf.compat.v1.assign_add instead.\n",
            "\n",
            "WARNING:tensorflow:From /usr/local/lib/python3.6/dist-packages/keras/backend/tensorflow_backend.py:1020: The name tf.assign is deprecated. Please use tf.compat.v1.assign instead.\n",
            "\n",
            "WARNING:tensorflow:From /usr/local/lib/python3.6/dist-packages/keras/backend/tensorflow_backend.py:3005: The name tf.Session is deprecated. Please use tf.compat.v1.Session instead.\n",
            "\n",
            "Epoch 1/50\n",
            "WARNING:tensorflow:From /usr/local/lib/python3.6/dist-packages/keras/backend/tensorflow_backend.py:190: The name tf.get_default_session is deprecated. Please use tf.compat.v1.get_default_session instead.\n",
            "\n",
            "WARNING:tensorflow:From /usr/local/lib/python3.6/dist-packages/keras/backend/tensorflow_backend.py:197: The name tf.ConfigProto is deprecated. Please use tf.compat.v1.ConfigProto instead.\n",
            "\n",
            "WARNING:tensorflow:From /usr/local/lib/python3.6/dist-packages/keras/backend/tensorflow_backend.py:207: The name tf.global_variables is deprecated. Please use tf.compat.v1.global_variables instead.\n",
            "\n",
            "WARNING:tensorflow:From /usr/local/lib/python3.6/dist-packages/keras/backend/tensorflow_backend.py:216: The name tf.is_variable_initialized is deprecated. Please use tf.compat.v1.is_variable_initialized instead.\n",
            "\n",
            "WARNING:tensorflow:From /usr/local/lib/python3.6/dist-packages/keras/backend/tensorflow_backend.py:223: The name tf.variables_initializer is deprecated. Please use tf.compat.v1.variables_initializer instead.\n",
            "\n",
            "221275/221275 [==============================] - 32s 144us/step - loss: 6.3449 - acc: 0.0824\n",
            "Epoch 2/50\n",
            "221275/221275 [==============================] - 27s 120us/step - loss: 5.7487 - acc: 0.1304\n",
            "Epoch 3/50\n",
            "221275/221275 [==============================] - 27s 120us/step - loss: 5.4465 - acc: 0.1559\n",
            "Epoch 4/50\n",
            "221275/221275 [==============================] - 27s 121us/step - loss: 5.2445 - acc: 0.1692\n",
            "Epoch 5/50\n",
            "221275/221275 [==============================] - 26s 119us/step - loss: 5.0816 - acc: 0.1803\n",
            "Epoch 6/50\n",
            "221275/221275 [==============================] - 26s 118us/step - loss: 4.9398 - acc: 0.1887\n",
            "Epoch 7/50\n",
            "221275/221275 [==============================] - 26s 119us/step - loss: 4.8092 - acc: 0.1952\n",
            "Epoch 8/50\n",
            "221275/221275 [==============================] - 26s 118us/step - loss: 4.6869 - acc: 0.2025\n",
            "Epoch 9/50\n",
            "221275/221275 [==============================] - 26s 118us/step - loss: 4.5721 - acc: 0.2080\n",
            "Epoch 10/50\n",
            "221275/221275 [==============================] - 26s 118us/step - loss: 4.4640 - acc: 0.2131\n",
            "Epoch 11/50\n",
            "221275/221275 [==============================] - 26s 117us/step - loss: 4.3635 - acc: 0.2181\n",
            "Epoch 12/50\n",
            "221275/221275 [==============================] - 26s 117us/step - loss: 4.2678 - acc: 0.2228\n",
            "Epoch 13/50\n",
            "221275/221275 [==============================] - 26s 117us/step - loss: 4.1776 - acc: 0.2284\n",
            "Epoch 14/50\n",
            "221275/221275 [==============================] - 26s 116us/step - loss: 4.0937 - acc: 0.2349\n",
            "Epoch 15/50\n",
            "221275/221275 [==============================] - 26s 117us/step - loss: 4.0178 - acc: 0.2407\n",
            "Epoch 16/50\n",
            "221275/221275 [==============================] - 26s 116us/step - loss: 3.9470 - acc: 0.2481\n",
            "Epoch 17/50\n",
            "221275/221275 [==============================] - 26s 116us/step - loss: 3.8830 - acc: 0.2544\n",
            "Epoch 18/50\n",
            "221275/221275 [==============================] - 26s 115us/step - loss: 3.8255 - acc: 0.2610\n",
            "Epoch 19/50\n",
            "221275/221275 [==============================] - 26s 115us/step - loss: 3.7734 - acc: 0.2664\n",
            "Epoch 20/50\n",
            "221275/221275 [==============================] - 26s 116us/step - loss: 3.7234 - acc: 0.2717\n",
            "Epoch 21/50\n",
            "221275/221275 [==============================] - 26s 116us/step - loss: 3.6793 - acc: 0.2772\n",
            "Epoch 22/50\n",
            "221275/221275 [==============================] - 26s 115us/step - loss: 3.6376 - acc: 0.2816\n",
            "Epoch 23/50\n",
            "221275/221275 [==============================] - 26s 116us/step - loss: 3.5978 - acc: 0.2863\n",
            "Epoch 24/50\n",
            "221275/221275 [==============================] - 26s 116us/step - loss: 3.5621 - acc: 0.2903\n",
            "Epoch 25/50\n",
            "221275/221275 [==============================] - 25s 115us/step - loss: 3.5282 - acc: 0.2944\n",
            "Epoch 26/50\n",
            "221275/221275 [==============================] - 26s 115us/step - loss: 3.4935 - acc: 0.2997\n",
            "Epoch 27/50\n",
            "221275/221275 [==============================] - 26s 116us/step - loss: 3.4629 - acc: 0.3033\n",
            "Epoch 28/50\n",
            "221275/221275 [==============================] - 26s 116us/step - loss: 3.4345 - acc: 0.3067\n",
            "Epoch 29/50\n",
            "221275/221275 [==============================] - 26s 115us/step - loss: 3.4044 - acc: 0.3103\n",
            "Epoch 30/50\n",
            "221275/221275 [==============================] - 25s 115us/step - loss: 3.3799 - acc: 0.3129\n",
            "Epoch 31/50\n",
            "221275/221275 [==============================] - 25s 115us/step - loss: 3.3536 - acc: 0.3166\n",
            "Epoch 32/50\n",
            "221275/221275 [==============================] - 25s 115us/step - loss: 3.3286 - acc: 0.3195\n",
            "Epoch 33/50\n",
            "221275/221275 [==============================] - 25s 114us/step - loss: 3.3061 - acc: 0.3222\n",
            "Epoch 34/50\n",
            "221275/221275 [==============================] - 25s 114us/step - loss: 3.2826 - acc: 0.3254\n",
            "Epoch 35/50\n",
            "221275/221275 [==============================] - 26s 115us/step - loss: 3.2607 - acc: 0.3282\n",
            "Epoch 36/50\n",
            "221275/221275 [==============================] - 25s 115us/step - loss: 3.2406 - acc: 0.3303\n",
            "Epoch 37/50\n",
            "221275/221275 [==============================] - 25s 114us/step - loss: 3.2193 - acc: 0.3330\n",
            "Epoch 38/50\n",
            "221275/221275 [==============================] - 25s 114us/step - loss: 3.2013 - acc: 0.3359\n",
            "Epoch 39/50\n",
            "221275/221275 [==============================] - 25s 114us/step - loss: 3.1825 - acc: 0.3383\n",
            "Epoch 40/50\n",
            "221275/221275 [==============================] - 25s 115us/step - loss: 3.1647 - acc: 0.3405\n",
            "Epoch 41/50\n",
            "221275/221275 [==============================] - 25s 113us/step - loss: 3.1449 - acc: 0.3432\n",
            "Epoch 42/50\n",
            "221275/221275 [==============================] - 25s 113us/step - loss: 3.1296 - acc: 0.3455\n",
            "Epoch 43/50\n",
            "221275/221275 [==============================] - 25s 113us/step - loss: 3.1145 - acc: 0.3463\n",
            "Epoch 44/50\n",
            "221275/221275 [==============================] - 25s 113us/step - loss: 3.0975 - acc: 0.3493\n",
            "Epoch 45/50\n",
            "221275/221275 [==============================] - 25s 114us/step - loss: 3.0827 - acc: 0.3509\n",
            "Epoch 46/50\n",
            "221275/221275 [==============================] - 25s 112us/step - loss: 3.0669 - acc: 0.3528\n",
            "Epoch 47/50\n",
            "221275/221275 [==============================] - 25s 113us/step - loss: 3.0519 - acc: 0.3555\n",
            "Epoch 48/50\n",
            "221275/221275 [==============================] - 25s 114us/step - loss: 3.0379 - acc: 0.3564\n",
            "Epoch 49/50\n",
            "221275/221275 [==============================] - 25s 113us/step - loss: 3.0264 - acc: 0.3577\n",
            "Epoch 50/50\n",
            "221275/221275 [==============================] - 25s 113us/step - loss: 3.0141 - acc: 0.3597\n"
          ],
          "name": "stdout"
        }
      ]
    },
    {
      "cell_type": "code",
      "metadata": {
        "id": "u8vcMkTG2ZEQ",
        "colab_type": "code",
        "colab": {}
      },
      "source": [
        "from random import randint\n",
        "from pickle import load\n",
        "from keras.models import load_model\n",
        "from keras.preprocessing.sequence import pad_sequences\n",
        "from keras.utils import plot_model\n",
        "import nltk\n",
        "from nltk.util import ngrams\n",
        "import collections"
      ],
      "execution_count": 0,
      "outputs": []
    },
    {
      "cell_type": "code",
      "metadata": {
        "id": "CtqEUoAxg2bq",
        "colab_type": "code",
        "colab": {}
      },
      "source": [
        "# load the model for predictions. Note that this code can be run separately in a different environment (provided we have the model files).\n",
        "model = load_model('model.h5')"
      ],
      "execution_count": 0,
      "outputs": []
    },
    {
      "cell_type": "code",
      "metadata": {
        "id": "18t6o4TmOHJd",
        "colab_type": "code",
        "outputId": "061131eb-6b46-4a30-c054-ef23fda46e6a",
        "colab": {
          "base_uri": "https://localhost:8080/",
          "height": 564
        }
      },
      "source": [
        "plot_model(model, to_file=\"trigram_model.png\") #show_shapes=True,   expand_nested=True"
      ],
      "execution_count": 14,
      "outputs": [
        {
          "output_type": "execute_result",
          "data": {
            "image/png": "[encoded data removed]",
            "text/plain": [
              "<IPython.core.display.Image object>"
            ]
          },
          "metadata": {
            "tags": []
          },
          "execution_count": 14
        }
      ]
    },
    {
      "cell_type": "code",
      "metadata": {
        "id": "tbS6tW2P_Qts",
        "colab_type": "code",
        "colab": {}
      },
      "source": [
        "# load the tokenizer\n",
        "tokenizer = load(open('tokenizer.pkl', 'rb'))"
      ],
      "execution_count": 0,
      "outputs": []
    },
    {
      "cell_type": "code",
      "metadata": {
        "id": "YLXGphOoAgCg",
        "colab_type": "code",
        "colab": {}
      },
      "source": [
        "# generate a sequence from a language model\n",
        "def generate_seq(model, tokenizer, seq_length, seed_text, n_words):\n",
        "\tresult = list()\n",
        "\tin_text = seed_text\n",
        "\t# generate a fixed number of words\n",
        "\tfor _ in range(n_words):\n",
        "\t\t# encode the text as integer\n",
        "\t\tencoded = tokenizer.texts_to_sequences([in_text])[0]\n",
        "\t\t# truncate sequences to a fixed length\n",
        "\t\tencoded = pad_sequences([encoded], maxlen=seq_length, truncating='pre')\n",
        "\t\t# predict probabilities for each word\n",
        "\t\tyhat = model.predict_classes(encoded, verbose=0)\n",
        "\t\t# map predicted word index to word\n",
        "\t\tout_word = ''\n",
        "\t\tfor word, index in tokenizer.word_index.items():\n",
        "\t\t\tif index == yhat:\n",
        "\t\t\t\tout_word = word\n",
        "\t\t\t\tbreak\n",
        "\t\t# append to input\n",
        "\t\tin_text += ' ' + out_word\n",
        "\t\tresult.append(out_word)\n",
        "\treturn ' '.join(result)"
      ],
      "execution_count": 0,
      "outputs": []
    },
    {
      "cell_type": "code",
      "metadata": {
        "id": "UFwiReEW_sv_",
        "colab_type": "code",
        "colab": {}
      },
      "source": [
        "# select a seed text\n",
        "seed_text = \"Yes he\""
      ],
      "execution_count": 0,
      "outputs": []
    },
    {
      "cell_type": "code",
      "metadata": {
        "id": "tmSUAT-jAouc",
        "colab_type": "code",
        "outputId": "220942a4-56aa-4982-8aaa-baf1bcdafbaf",
        "colab": {
          "base_uri": "https://localhost:8080/",
          "height": 34
        }
      },
      "source": [
        "# generate new text\n",
        "generated = generate_seq(model, tokenizer, 2, seed_text, 1)\n",
        "print(generated)"
      ],
      "execution_count": 21,
      "outputs": [
        {
          "output_type": "stream",
          "text": [
            "said\n"
          ],
          "name": "stdout"
        }
      ]
    },
    {
      "cell_type": "code",
      "metadata": {
        "id": "KKc5wWbQBX4k",
        "colab_type": "code",
        "outputId": "81e08144-ffb5-43c5-8f97-f841be834edb",
        "colab": {
          "base_uri": "https://localhost:8080/",
          "height": 185
        }
      },
      "source": [
        "# code to confirm few n-grams generated by the LSTM model by comparing it with actual frequency based output\n",
        "blogs = open('republic.txt', 'rt')\n",
        "text = blogs.read()\n",
        "blogs.close()\n",
        "corpus = text\n",
        "# We will remove double quotes, !, ? $, #, etc\n",
        "# specify to translate chars \n",
        "str1 = \"\"\n",
        "# specify to replace with \n",
        "str2 = \"\"\n",
        "# delete chars \n",
        "str3 = \"\\\"!?#$%^&*+\"\n",
        "\n",
        "trg = corpus\n",
        "table = trg.maketrans(str1, str2, str3)\n",
        "corpus = trg.translate(table)\n",
        "words = corpus.split()\n",
        "\n",
        "esTrigrams = ngrams(words, 3)\n",
        "esTrigramFreq = collections.Counter(esTrigrams)\n",
        "esTrigramFreq.most_common(10)"
      ],
      "execution_count": 22,
      "outputs": [
        {
          "output_type": "execute_result",
          "data": {
            "text/plain": [
              "[(('as', 'well', 'as'), 113),\n",
              " (('to', 'be', 'the'), 109),\n",
              " (('is', 'to', 'be'), 76),\n",
              " (('which', 'is', 'the'), 74),\n",
              " (('Yes,', 'he', 'said,'), 74),\n",
              " (('are', 'to', 'be'), 70),\n",
              " (('the', 'nature', 'of'), 68),\n",
              " (('the', 'idea', 'of'), 67),\n",
              " (('there', 'is', 'no'), 66),\n",
              " (('he', 'said.', 'And'), 66)]"
            ]
          },
          "metadata": {
            "tags": []
          },
          "execution_count": 22
        }
      ]
    },
    {
      "cell_type": "code",
      "metadata": {
        "id": "GVMP7FfKBvMx",
        "colab_type": "code",
        "colab": {
          "base_uri": "https://localhost:8080/",
          "height": 34
        },
        "outputId": "5eed0ae0-0095-4060-e1d9-4018e6063d72"
      },
      "source": [
        "# code to test the LSTM generated output with the frequency-based output over 100 predictions.\n",
        "testSet = esTrigramFreq.most_common(100)\n",
        "count=0\n",
        "for trigramTup in testSet:\n",
        "  trigram=trigramTup[0]\n",
        "  seed_text=trigram[0]+\" \"+trigram[1]\n",
        "  expected_text=trigram[2]\n",
        "  generated = generate_seq(model, tokenizer, 2, seed_text, 1)\n",
        "  # print(seed_text+\" : \"+\"(\"+expected_text+\" , \"+generated+\")\")\n",
        "  if generated.strip()== expected_text:\n",
        "    count+=1\n",
        "print (\"Accuracy: \",count/100)"
      ],
      "execution_count": 27,
      "outputs": [
        {
          "output_type": "stream",
          "text": [
            "Accuracy:  0.75\n"
          ],
          "name": "stdout"
        }
      ]
    },
    {
      "cell_type": "code",
      "metadata": {
        "id": "5gZyluvTIA2m",
        "colab_type": "code",
        "colab": {}
      },
      "source": [
        ""
      ],
      "execution_count": 0,
      "outputs": []
    }
  ]
}
