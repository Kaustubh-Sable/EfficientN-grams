{
  "nbformat": 4,
  "nbformat_minor": 0,
  "metadata": {
    "colab": {
      "name": "Word_Level_LSTM_Config_1.ipynb",
      "provenance": [],
      "collapsed_sections": [],
      "machine_shape": "hm"
    },
    "kernelspec": {
      "name": "python3",
      "display_name": "Python 3"
    },
    "accelerator": "GPU"
  },
  "cells": [
    {
      "cell_type": "markdown",
      "metadata": {
        "id": "DKDYuJbpI_xw",
        "colab_type": "text"
      },
      "source": [
        "**Word Level LSTM for quad-grams** (sequence length: 3)\n",
        "\n",
        "This model predicts a word given three prior words. The code broadly consists of three parts:\n",
        "\n",
        "*   Training the LSTM model and save it to a file.\n",
        "*   Load the model from the file.\n",
        "*   Calculate the accuracy of the model based on the frequency-based N-gram (five-grams in this case) counts.\n",
        "\n",
        "Pros:\n",
        "- Offers less sparsity and shorter sequence lengths in contrast to character-level alternatives.\n",
        "- No post-processing required.\n",
        "- Model trained on sequence length of n-words works well for all values less than n.\n",
        "- Good at capturing long-distance dependencies.\n",
        "\n",
        "Cons:\n",
        "- They are unable to generate a word which is unseen/rare during training, hence, suffer from the Out-Of-Vocabulary (OOV) problem. One solution is to have a large dictionary, but still, that increases the time and space complexity of the network and also, the same problem would appear for every new word.\n",
        "- Softmax used in the output layer is often computationaly intensive.\n",
        "- Harder to model languages with a rich morphology such as Finish, Turkish, Russian etc.."
      ]
    },
    {
      "cell_type": "code",
      "metadata": {
        "id": "b-1WNNP7lkPU",
        "colab_type": "code",
        "outputId": "25675f0c-74c2-49b2-91a4-065b62fefce7",
        "colab": {
          "base_uri": "https://localhost:8080/",
          "height": 121
        }
      },
      "source": [
        "from google.colab import drive\n",
        "drive.mount('/gdrive')"
      ],
      "execution_count": 1,
      "outputs": [
        {
          "output_type": "stream",
          "text": [
            "Go to this URL in a browser: https://accounts.google.com/o/oauth2/auth?client_id=947318989803-6bn6qk8qdgf4n4g3pfee6491hc0brc4i.apps.googleusercontent.com&redirect_uri=urn%3aietf%3awg%3aoauth%3a2.0%3aoob&response_type=code&scope=email%20https%3a%2f%2fwww.googleapis.com%2fauth%2fdocs.test%20https%3a%2f%2fwww.googleapis.com%2fauth%2fdrive%20https%3a%2f%2fwww.googleapis.com%2fauth%2fdrive.photos.readonly%20https%3a%2f%2fwww.googleapis.com%2fauth%2fpeopleapi.readonly\n",
            "\n",
            "Enter your authorization code:\n",
            "··········\n",
            "Mounted at /gdrive\n"
          ],
          "name": "stdout"
        }
      ]
    },
    {
      "cell_type": "code",
      "metadata": {
        "id": "Ttetpn-tEBno",
        "colab_type": "code",
        "outputId": "40ffe863-03e1-40b2-8f21-b6564bd196a8",
        "colab": {
          "base_uri": "https://localhost:8080/",
          "height": 34
        }
      },
      "source": [
        "cd ../gdrive/My\\ Drive/NLP/Project"
      ],
      "execution_count": 4,
      "outputs": [
        {
          "output_type": "stream",
          "text": [
            "/gdrive/My Drive/NLP/Project\n"
          ],
          "name": "stdout"
        }
      ]
    },
    {
      "cell_type": "code",
      "metadata": {
        "id": "4jL-wqa1qtj-",
        "colab_type": "code",
        "outputId": "dbcc8ebd-881e-4bda-aee1-7045cf4c1407",
        "colab": {
          "base_uri": "https://localhost:8080/",
          "height": 50
        }
      },
      "source": [
        "ls"
      ],
      "execution_count": 17,
      "outputs": [
        {
          "output_type": "stream",
          "text": [
            "data.txt  republic.txt   trigram_model.png\n",
            "model.h5  tokenizer.pkl  Word_Level_LSTM_Config_3.ipynb\n"
          ],
          "name": "stdout"
        }
      ]
    },
    {
      "cell_type": "code",
      "metadata": {
        "id": "ER6sl6cjF7dY",
        "colab_type": "code",
        "colab": {}
      },
      "source": [
        "from numpy import array\n",
        "from pickle import dump\n",
        "from keras.preprocessing.text import Tokenizer\n",
        "from keras.utils import to_categorical\n",
        "from keras.models import Sequential\n",
        "from keras.layers import Dense\n",
        "from keras.layers import LSTM\n",
        "from keras.layers import Embedding"
      ],
      "execution_count": 0,
      "outputs": []
    },
    {
      "cell_type": "code",
      "metadata": {
        "id": "NuPdxkZ6X1GA",
        "colab_type": "code",
        "colab": {}
      },
      "source": [
        "# load doc into memory\n",
        "def load_doc(filename):\n",
        "\t# open the file as read only\n",
        "\tfile = open(filename, 'r')\n",
        "\t# read all text\n",
        "\ttext = file.read()\n",
        "\t# close the file\n",
        "\tfile.close()\n",
        "\treturn text\n",
        "\n",
        "# load the dataset\n",
        "in_filename = 'republic.txt'\n",
        "doc = load_doc(in_filename)\n",
        "lines = doc.split('\\n')\n",
        "\n",
        "# integer encode sequences of words\n",
        "tokenizer = Tokenizer()\n",
        "tokenizer.fit_on_texts(lines)\n",
        "sequences = tokenizer.texts_to_sequences(lines)\n",
        "# vocabulary size\n",
        "vocab_size = len(tokenizer.word_index) + 1\n"
      ],
      "execution_count": 0,
      "outputs": []
    },
    {
      "cell_type": "code",
      "metadata": {
        "id": "kxKACktEhNQL",
        "colab_type": "code",
        "outputId": "5b7c5172-65cb-4f88-982d-47202443433a",
        "colab": {
          "base_uri": "https://localhost:8080/",
          "height": 168
        }
      },
      "source": [
        "sequences[1:10]"
      ],
      "execution_count": 8,
      "outputs": [
        {
          "output_type": "execute_result",
          "data": {
            "text/plain": [
              "[[],\n",
              " [30, 1614, 5, 26, 1, 163, 2, 2549, 2550, 35, 44, 2871, 3, 28],\n",
              " [568, 44, 3940, 4907, 21, 37, 1062, 73, 235, 73, 248, 13],\n",
              " [2551, 163, 73, 157, 1, 379, 2, 1, 286, 264, 1178, 1325],\n",
              " [28, 30, 1614, 13, 3323, 35, 2552, 264, 1404],\n",
              " [],\n",
              " [],\n",
              " [2069, 1, 227],\n",
              " []]"
            ]
          },
          "metadata": {
            "tags": []
          },
          "execution_count": 8
        }
      ]
    },
    {
      "cell_type": "code",
      "metadata": {
        "id": "5a7Df-vKhpZ-",
        "colab_type": "code",
        "colab": {}
      },
      "source": [
        "flat_list = [item for sublist in sequences for item in sublist]"
      ],
      "execution_count": 0,
      "outputs": []
    },
    {
      "cell_type": "code",
      "metadata": {
        "id": "eAOOpT55jARk",
        "colab_type": "code",
        "colab": {}
      },
      "source": [
        "# prepare the dataset of input to output pairs encoded as integers\n",
        "seq_length = 3\n",
        "dataX = []\n",
        "dataY = []\n",
        "for i in range(0, len(flat_list) - seq_length, 1):\n",
        "\tseq_in = flat_list[i:i + seq_length]\n",
        "\tseq_out = flat_list[i + seq_length]\n",
        "\tdataX.append(seq_in)\n",
        "\tdataY.append(seq_out)\n",
        "n_patterns = len(dataX)"
      ],
      "execution_count": 0,
      "outputs": []
    },
    {
      "cell_type": "code",
      "metadata": {
        "id": "DTpNMayajlYe",
        "colab_type": "code",
        "outputId": "e01d86fd-6a55-4a8d-a5c7-72f1ca83401e",
        "colab": {
          "base_uri": "https://localhost:8080/",
          "height": 34
        }
      },
      "source": [
        "n_patterns"
      ],
      "execution_count": 18,
      "outputs": [
        {
          "output_type": "execute_result",
          "data": {
            "text/plain": [
              "221274"
            ]
          },
          "metadata": {
            "tags": []
          },
          "execution_count": 18
        }
      ]
    },
    {
      "cell_type": "code",
      "metadata": {
        "id": "rY_Ba1MRjlNF",
        "colab_type": "code",
        "colab": {}
      },
      "source": [
        "dataX = array(dataX)\n",
        "dataY = array(dataY)"
      ],
      "execution_count": 0,
      "outputs": []
    },
    {
      "cell_type": "code",
      "metadata": {
        "id": "bcqbJSLSj9aw",
        "colab_type": "code",
        "outputId": "e3ea1068-bb63-4eb8-860f-93bc38b4376d",
        "colab": {
          "base_uri": "https://localhost:8080/",
          "height": 34
        }
      },
      "source": [
        "dataX.shape, dataY.shape"
      ],
      "execution_count": 13,
      "outputs": [
        {
          "output_type": "execute_result",
          "data": {
            "text/plain": [
              "((221274, 3), (221274,))"
            ]
          },
          "metadata": {
            "tags": []
          },
          "execution_count": 13
        }
      ]
    },
    {
      "cell_type": "code",
      "metadata": {
        "id": "zkQJLFWPbqbl",
        "colab_type": "code",
        "outputId": "5f74de34-cb63-4294-ad55-e73a6ca13037",
        "colab": {
          "base_uri": "https://localhost:8080/",
          "height": 1000
        }
      },
      "source": [
        "# separate into input and output\n",
        "X, y = dataX, dataY\n",
        "y = to_categorical(y, num_classes=vocab_size)\n",
        "seq_length = dataX.shape[1]\n",
        "\n",
        "# define model\n",
        "model = Sequential()\n",
        "model.add(Embedding(vocab_size, 50, input_length=seq_length))\n",
        "model.add(LSTM(100, return_sequences=True))\n",
        "model.add(LSTM(100))\n",
        "model.add(Dense(100, activation='relu'))\n",
        "model.add(Dense(vocab_size, activation='softmax'))\n",
        "print(model.summary())\n",
        "# compile model\n",
        "model.compile(loss='categorical_crossentropy', optimizer='adam', metrics=['accuracy'])\n",
        "# fit model\n",
        "model.fit(X, y, batch_size=128, epochs=50)\n",
        "\n",
        "# save the model to file\n",
        "model.save('model.h5')\n",
        "# save the tokenizer\n",
        "dump(tokenizer, open('tokenizer.pkl', 'wb'))"
      ],
      "execution_count": 19,
      "outputs": [
        {
          "output_type": "stream",
          "text": [
            "Model: \"sequential_2\"\n",
            "_________________________________________________________________\n",
            "Layer (type)                 Output Shape              Param #   \n",
            "=================================================================\n",
            "embedding_2 (Embedding)      (None, 3, 50)             551800    \n",
            "_________________________________________________________________\n",
            "lstm_3 (LSTM)                (None, 3, 100)            60400     \n",
            "_________________________________________________________________\n",
            "lstm_4 (LSTM)                (None, 100)               80400     \n",
            "_________________________________________________________________\n",
            "dense_3 (Dense)              (None, 100)               10100     \n",
            "_________________________________________________________________\n",
            "dense_4 (Dense)              (None, 11036)             1114636   \n",
            "=================================================================\n",
            "Total params: 1,817,336\n",
            "Trainable params: 1,817,336\n",
            "Non-trainable params: 0\n",
            "_________________________________________________________________\n",
            "None\n",
            "Epoch 1/50\n",
            "221274/221274 [==============================] - 35s 158us/step - loss: 6.3750 - acc: 0.0790\n",
            "Epoch 2/50\n",
            "221274/221274 [==============================] - 32s 144us/step - loss: 5.8050 - acc: 0.1236\n",
            "Epoch 3/50\n",
            "221274/221274 [==============================] - 32s 145us/step - loss: 5.4397 - acc: 0.1562\n",
            "Epoch 4/50\n",
            "221274/221274 [==============================] - 32s 147us/step - loss: 5.2115 - acc: 0.1722\n",
            "Epoch 5/50\n",
            "221274/221274 [==============================] - 32s 147us/step - loss: 5.0412 - acc: 0.1833\n",
            "Epoch 6/50\n",
            "221274/221274 [==============================] - 32s 144us/step - loss: 4.8935 - acc: 0.1918\n",
            "Epoch 7/50\n",
            "221274/221274 [==============================] - 32s 146us/step - loss: 4.7542 - acc: 0.1991\n",
            "Epoch 8/50\n",
            "221274/221274 [==============================] - 33s 148us/step - loss: 4.6212 - acc: 0.2056\n",
            "Epoch 9/50\n",
            "221274/221274 [==============================] - 32s 144us/step - loss: 4.4958 - acc: 0.2118\n",
            "Epoch 10/50\n",
            "221274/221274 [==============================] - 32s 146us/step - loss: 4.3770 - acc: 0.2170\n",
            "Epoch 11/50\n",
            "221274/221274 [==============================] - 32s 145us/step - loss: 4.2624 - acc: 0.2237\n",
            "Epoch 12/50\n",
            "221274/221274 [==============================] - 32s 143us/step - loss: 4.1507 - acc: 0.2296\n",
            "Epoch 13/50\n",
            "221274/221274 [==============================] - 32s 144us/step - loss: 4.0434 - acc: 0.2368\n",
            "Epoch 14/50\n",
            "221274/221274 [==============================] - 32s 145us/step - loss: 3.9420 - acc: 0.2446\n",
            "Epoch 15/50\n",
            "221274/221274 [==============================] - 32s 145us/step - loss: 3.8468 - acc: 0.2547\n",
            "Epoch 16/50\n",
            "221274/221274 [==============================] - 31s 142us/step - loss: 3.7591 - acc: 0.2635\n",
            "Epoch 17/50\n",
            "221274/221274 [==============================] - 32s 144us/step - loss: 3.6772 - acc: 0.2731\n",
            "Epoch 18/50\n",
            "221274/221274 [==============================] - 32s 146us/step - loss: 3.6020 - acc: 0.2820\n",
            "Epoch 19/50\n",
            "221274/221274 [==============================] - 32s 145us/step - loss: 3.5320 - acc: 0.2920\n",
            "Epoch 20/50\n",
            "221274/221274 [==============================] - 32s 143us/step - loss: 3.4681 - acc: 0.2997\n",
            "Epoch 21/50\n",
            "221274/221274 [==============================] - 32s 145us/step - loss: 3.4073 - acc: 0.3084\n",
            "Epoch 22/50\n",
            "221274/221274 [==============================] - 32s 144us/step - loss: 3.3498 - acc: 0.3165\n",
            "Epoch 23/50\n",
            "221274/221274 [==============================] - 32s 143us/step - loss: 3.2970 - acc: 0.3238\n",
            "Epoch 24/50\n",
            "221274/221274 [==============================] - 32s 147us/step - loss: 3.2446 - acc: 0.3314\n",
            "Epoch 25/50\n",
            "221274/221274 [==============================] - 32s 144us/step - loss: 3.1977 - acc: 0.3383\n",
            "Epoch 26/50\n",
            "221274/221274 [==============================] - 32s 144us/step - loss: 3.1522 - acc: 0.3456\n",
            "Epoch 27/50\n",
            "221274/221274 [==============================] - 32s 144us/step - loss: 3.1074 - acc: 0.3516\n",
            "Epoch 28/50\n",
            "221274/221274 [==============================] - 32s 146us/step - loss: 3.0643 - acc: 0.3577\n",
            "Epoch 29/50\n",
            "221274/221274 [==============================] - 32s 145us/step - loss: 3.0273 - acc: 0.3642\n",
            "Epoch 30/50\n",
            "221274/221274 [==============================] - 32s 143us/step - loss: 2.9884 - acc: 0.3702\n",
            "Epoch 31/50\n",
            "221274/221274 [==============================] - 32s 143us/step - loss: 2.9515 - acc: 0.3754\n",
            "Epoch 32/50\n",
            "221274/221274 [==============================] - 32s 144us/step - loss: 2.9152 - acc: 0.3811\n",
            "Epoch 33/50\n",
            "221274/221274 [==============================] - 32s 145us/step - loss: 2.8816 - acc: 0.3869\n",
            "Epoch 34/50\n",
            "221274/221274 [==============================] - 32s 146us/step - loss: 2.8517 - acc: 0.3913\n",
            "Epoch 35/50\n",
            "221274/221274 [==============================] - 32s 144us/step - loss: 2.8185 - acc: 0.3963\n",
            "Epoch 36/50\n",
            "221274/221274 [==============================] - 32s 144us/step - loss: 2.7888 - acc: 0.4009\n",
            "Epoch 37/50\n",
            "221274/221274 [==============================] - 33s 148us/step - loss: 2.7611 - acc: 0.4058\n",
            "Epoch 38/50\n",
            "221274/221274 [==============================] - 32s 144us/step - loss: 2.7338 - acc: 0.4102\n",
            "Epoch 39/50\n",
            "221274/221274 [==============================] - 32s 145us/step - loss: 2.7052 - acc: 0.4152\n",
            "Epoch 40/50\n",
            "221274/221274 [==============================] - 32s 146us/step - loss: 2.6786 - acc: 0.4188\n",
            "Epoch 41/50\n",
            "221274/221274 [==============================] - 32s 145us/step - loss: 2.6539 - acc: 0.4246\n",
            "Epoch 42/50\n",
            "221274/221274 [==============================] - 32s 144us/step - loss: 2.6302 - acc: 0.4262\n",
            "Epoch 43/50\n",
            "221274/221274 [==============================] - 32s 145us/step - loss: 2.6062 - acc: 0.4313\n",
            "Epoch 44/50\n",
            "221274/221274 [==============================] - 31s 142us/step - loss: 2.5859 - acc: 0.4345\n",
            "Epoch 45/50\n",
            "221274/221274 [==============================] - 32s 143us/step - loss: 2.5632 - acc: 0.4382\n",
            "Epoch 46/50\n",
            "221274/221274 [==============================] - 32s 146us/step - loss: 2.5424 - acc: 0.4412\n",
            "Epoch 47/50\n",
            "221274/221274 [==============================] - 32s 146us/step - loss: 2.5208 - acc: 0.4451\n",
            "Epoch 48/50\n",
            "221274/221274 [==============================] - 31s 142us/step - loss: 2.5014 - acc: 0.4485\n",
            "Epoch 49/50\n",
            "221274/221274 [==============================] - 32s 144us/step - loss: 2.4843 - acc: 0.4508\n",
            "Epoch 50/50\n",
            "221274/221274 [==============================] - 32s 144us/step - loss: 2.4627 - acc: 0.4540\n"
          ],
          "name": "stdout"
        }
      ]
    },
    {
      "cell_type": "code",
      "metadata": {
        "id": "KHqvYEgAGRcB",
        "colab_type": "code",
        "colab": {}
      },
      "source": [
        "from random import randint\n",
        "from pickle import load\n",
        "from keras.models import load_model\n",
        "from keras.preprocessing.sequence import pad_sequences\n",
        "from keras.utils import plot_model\n",
        "import nltk\n",
        "from nltk.util import ngrams\n",
        "import collections"
      ],
      "execution_count": 0,
      "outputs": []
    },
    {
      "cell_type": "code",
      "metadata": {
        "id": "OTa1Hhm7eprb",
        "colab_type": "code",
        "colab": {}
      },
      "source": [
        "# load the model\n",
        "model = load_model('model.h5')\n",
        "# load the tokenizer\n",
        "tokenizer = load(open('tokenizer.pkl', 'rb'))"
      ],
      "execution_count": 0,
      "outputs": []
    },
    {
      "cell_type": "code",
      "metadata": {
        "id": "DKNQiaG7PMpQ",
        "colab_type": "code",
        "outputId": "c54a4c2a-686d-4875-cc07-b691038f0e49",
        "colab": {
          "base_uri": "https://localhost:8080/",
          "height": 564
        }
      },
      "source": [
        "plot_model(model, to_file=\"trigram_model.png\") #show_shapes=True,   expand_nested=True"
      ],
      "execution_count": 25,
      "outputs": [
        {
          "output_type": "execute_result",
          "data": {
            "image/png": "[encoded data removed]",
            "text/plain": [
              "<IPython.core.display.Image object>"
            ]
          },
          "metadata": {
            "tags": []
          },
          "execution_count": 25
        }
      ]
    },
    {
      "cell_type": "code",
      "metadata": {
        "id": "CtqEUoAxg2bq",
        "colab_type": "code",
        "colab": {}
      },
      "source": [
        "# generate a sequence from a language model\n",
        "def generate_seq(model, tokenizer, seq_length, seed_text, n_words):\n",
        "\tresult = list()\n",
        "\tin_text = seed_text\n",
        "\t# generate a fixed number of words\n",
        "\tfor _ in range(n_words):\n",
        "\t\t# encode the text as integer\n",
        "\t\tencoded = tokenizer.texts_to_sequences([in_text])[0]\n",
        "\t\t# truncate sequences to a fixed length\n",
        "\t\tencoded = pad_sequences([encoded], maxlen=seq_length, truncating='pre')\n",
        "\t\t# predict probabilities for each word\n",
        "\t\tyhat = model.predict_classes(encoded, verbose=0)\n",
        "\t\t# map predicted word index to word\n",
        "\t\tout_word = ''\n",
        "\t\tfor word, index in tokenizer.word_index.items():\n",
        "\t\t\tif index == yhat:\n",
        "\t\t\t\tout_word = word\n",
        "\t\t\t\tbreak\n",
        "\t\t# append to input\n",
        "\t\tin_text += ' ' + out_word\n",
        "\t\tresult.append(out_word)\n",
        "\treturn ' '.join(result)"
      ],
      "execution_count": 0,
      "outputs": []
    },
    {
      "cell_type": "code",
      "metadata": {
        "id": "Rlbs99JkF9jJ",
        "colab_type": "code",
        "outputId": "32936390-a97e-4382-a1c1-6e9430d5719c",
        "colab": {
          "base_uri": "https://localhost:8080/",
          "height": 34
        }
      },
      "source": [
        "# select a seed text\n",
        "seed_text = \"what do you\"\n",
        "# generate new text\n",
        "generated = generate_seq(model, tokenizer, 3, seed_text, 1)\n",
        "print(generated)"
      ],
      "execution_count": 29,
      "outputs": [
        {
          "output_type": "stream",
          "text": [
            "mean\n"
          ],
          "name": "stdout"
        }
      ]
    },
    {
      "cell_type": "code",
      "metadata": {
        "id": "Ukq8XhNbGEDL",
        "colab_type": "code",
        "outputId": "7c6bc668-a53a-4471-96d0-a95c7e31383d",
        "colab": {
          "base_uri": "https://localhost:8080/",
          "height": 185
        }
      },
      "source": [
        "# code to confirm the n-grams generated by the our model by comparing it with actual frequency based output\n",
        "blogs = open('republic.txt', 'rt')\n",
        "text = blogs.read()\n",
        "blogs.close()\n",
        "corpus = text\n",
        "# We will remove double quotes, !, ? $, #, etc\n",
        "# specify to translate chars \n",
        "str1 = \"\"\n",
        "# specify to replace with \n",
        "str2 = \"\"\n",
        "# delete chars \n",
        "str3 = \"\\\"!?#$%^&*+\"\n",
        "\n",
        "trg = corpus\n",
        "table = trg.maketrans(str1, str2, str3)\n",
        "corpus = trg.translate(table)\n",
        "words = corpus.split()\n",
        "\n",
        "esQuadgrams = ngrams(words, 4)\n",
        "esQuadgramFreq = collections.Counter(esQuadgrams)\n",
        "esQuadgramFreq.most_common(10)"
      ],
      "execution_count": 30,
      "outputs": [
        {
          "output_type": "execute_result",
          "data": {
            "text/plain": [
              "[(('for', 'the', 'sake', 'of'), 28),\n",
              " (('Very', 'true,', 'he', 'said.'), 26),\n",
              " (('the', 'interest', 'of', 'the'), 25),\n",
              " (('What', 'do', 'you', 'mean'), 24),\n",
              " (('at', 'the', 'same', 'time'), 22),\n",
              " (('the', 'rest', 'of', 'the'), 21),\n",
              " (('Yes,', 'he', 'said,', 'that'), 21),\n",
              " (('in', 'the', 'case', 'of'), 20),\n",
              " (('as', 'well', 'as', 'of'), 18),\n",
              " (('the', 'idea', 'of', 'good'), 18)]"
            ]
          },
          "metadata": {
            "tags": []
          },
          "execution_count": 30
        }
      ]
    },
    {
      "cell_type": "code",
      "metadata": {
        "id": "20IVh3qLLCPG",
        "colab_type": "code",
        "colab": {
          "base_uri": "https://localhost:8080/",
          "height": 34
        },
        "outputId": "fb8986ee-efee-45db-aaa9-ad3bdf8d6cb1"
      },
      "source": [
        "# code to test the LSTM generated output with the frequency-based output over 100 predictions.\n",
        "testSet = esQuadgramFreq.most_common(100)\n",
        "count=0\n",
        "for quadgramTup in testSet:\n",
        "  quadgram=quadgramTup[0]\n",
        "  seed_text=quadgram[0]+\" \"+quadgram[1]+\" \"+quadgram[2]\n",
        "  expected_text=quadgram[3]\n",
        "  generated = generate_seq(model, tokenizer, 3, seed_text, 1)\n",
        "  # print(seed_text+\" : \"+\"(\"+expected_text+\" , \"+generated+\")\")\n",
        "  if generated.strip()== expected_text:\n",
        "    count+=1\n",
        "print (\"Accuracy: \",count/100)"
      ],
      "execution_count": 33,
      "outputs": [
        {
          "output_type": "stream",
          "text": [
            "Accuracy:  0.73\n"
          ],
          "name": "stdout"
        }
      ]
    },
    {
      "cell_type": "code",
      "metadata": {
        "id": "yRtKAjnqcNp8",
        "colab_type": "code",
        "colab": {}
      },
      "source": [
        ""
      ],
      "execution_count": 0,
      "outputs": []
    }
  ]
}
