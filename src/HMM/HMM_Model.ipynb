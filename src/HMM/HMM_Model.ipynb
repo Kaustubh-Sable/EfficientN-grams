{
  "nbformat": 4,
  "nbformat_minor": 0,
  "metadata": {
    "colab": {
      "name": "HMM Model.ipynb",
      "provenance": [],
      "collapsed_sections": [],
      "machine_shape": "hm"
    },
    "kernelspec": {
      "name": "python3",
      "display_name": "Python 3"
    }
  },
  "cells": [
    {
      "cell_type": "code",
      "metadata": {
        "id": "RVIbJig9TnB5",
        "colab_type": "code",
        "outputId": "3d14f668-da07-4e6b-94ef-9ac98d9ce53c",
        "colab": {
          "base_uri": "https://localhost:8080/",
          "height": 36
        }
      },
      "source": [
        "from google.colab import drive\n",
        "drive.mount('/gdrive')"
      ],
      "execution_count": 5,
      "outputs": [
        {
          "output_type": "stream",
          "text": [
            "Drive already mounted at /gdrive; to attempt to forcibly remount, call drive.mount(\"/gdrive\", force_remount=True).\n"
          ],
          "name": "stdout"
        }
      ]
    },
    {
      "cell_type": "code",
      "metadata": {
        "id": "C2vPCUXlTRfa",
        "colab_type": "code",
        "colab": {}
      },
      "source": [
        "import os\n",
        "print(os.listdir('../gdrive/My Drive/NLP/Final Project/'))\n",
        "os.chdir('../gdrive/My Drive/NLP/Final Project/')"
      ],
      "execution_count": 0,
      "outputs": []
    },
    {
      "cell_type": "code",
      "metadata": {
        "id": "G3ZUTlfGZ74i",
        "colab_type": "code",
        "colab": {}
      },
      "source": [
        "blogs = open('LSTM/republic.txt', 'r')\n",
        "text = blogs.read()\n",
        "blogs.close()"
      ],
      "execution_count": 0,
      "outputs": []
    },
    {
      "cell_type": "code",
      "metadata": {
        "id": "-hccTKW8b3Ak",
        "colab_type": "code",
        "outputId": "883af9a7-145f-4e01-c3c6-1837191a19a5",
        "colab": {
          "base_uri": "https://localhost:8080/",
          "height": 36
        }
      },
      "source": [
        "corpus = text\n",
        "print(len(corpus))"
      ],
      "execution_count": 9,
      "outputs": [
        {
          "output_type": "stream",
          "text": [
            "1214385\n"
          ],
          "name": "stdout"
        }
      ]
    },
    {
      "cell_type": "code",
      "metadata": {
        "id": "ddvl0Fffe0Yw",
        "colab_type": "code",
        "outputId": "07f54ad2-4702-4baa-d313-9f369819b965",
        "colab": {
          "base_uri": "https://localhost:8080/",
          "height": 36
        }
      },
      "source": [
        "# We will remove double quotes, !, ? $, #, etc\n",
        "# specify to translate chars \n",
        "str1 = \"\"\n",
        "# specify to replace with \n",
        "str2 = \"\"\n",
        "# delete chars \n",
        "str3 = \"\\\"!?#$%^&*+\"\n",
        "\n",
        "trg = corpus\n",
        "table = trg.maketrans(str1, str2, str3)\n",
        "corpus = trg.translate(table)\n",
        "\n",
        "print(len(corpus))"
      ],
      "execution_count": 10,
      "outputs": [
        {
          "output_type": "stream",
          "text": [
            "1212249\n"
          ],
          "name": "stdout"
        }
      ]
    },
    {
      "cell_type": "code",
      "metadata": {
        "id": "lnzN1dsSTSIG",
        "colab_type": "code",
        "outputId": "69b3dcb5-3f65-45ed-ef9e-835eb423cb65",
        "colab": {
          "base_uri": "https://localhost:8080/",
          "height": 36
        }
      },
      "source": [
        "words = corpus.split()\n",
        "print (len(words))"
      ],
      "execution_count": 11,
      "outputs": [
        {
          "output_type": "stream",
          "text": [
            "219238\n"
          ],
          "name": "stdout"
        }
      ]
    },
    {
      "cell_type": "code",
      "metadata": {
        "id": "gN349IzmbyGO",
        "colab_type": "code",
        "colab": {}
      },
      "source": [
        "# convert to lower case\n",
        "words = [word.lower() for word in words]"
      ],
      "execution_count": 0,
      "outputs": []
    },
    {
      "cell_type": "code",
      "metadata": {
        "id": "ojeuhSILeh01",
        "colab_type": "code",
        "outputId": "ad511078-78b5-4b6f-f0fb-96ee8c4fd5e6",
        "colab": {
          "base_uri": "https://localhost:8080/",
          "height": 36
        }
      },
      "source": [
        "# The data set is cleaned. So, let's try to build a frequency table for n-grams\n",
        "print(len(set(words)))\n",
        "# Vocab size\n",
        "import nltk\n",
        "freq_dist = nltk.FreqDist(words)"
      ],
      "execution_count": 13,
      "outputs": [
        {
          "output_type": "stream",
          "text": [
            "18997\n"
          ],
          "name": "stdout"
        }
      ]
    },
    {
      "cell_type": "code",
      "metadata": {
        "id": "d5zYtntogNRV",
        "colab_type": "code",
        "outputId": "05ed905a-8e86-4950-90ad-4b604ad1fa41",
        "colab": {
          "base_uri": "https://localhost:8080/",
          "height": 204
        }
      },
      "source": [
        "freq_dist.most_common(10) # the most common words in our corpus."
      ],
      "execution_count": 14,
      "outputs": [
        {
          "output_type": "execute_result",
          "data": {
            "text/plain": [
              "[('the', 15412),\n",
              " ('of', 10423),\n",
              " ('and', 9447),\n",
              " ('to', 5974),\n",
              " ('is', 4538),\n",
              " ('in', 4452),\n",
              " ('a', 3942),\n",
              " ('he', 3153),\n",
              " ('be', 2893),\n",
              " ('that', 2874)]"
            ]
          },
          "metadata": {
            "tags": []
          },
          "execution_count": 14
        }
      ]
    },
    {
      "cell_type": "markdown",
      "metadata": {
        "id": "0XysYKKhAPH7",
        "colab_type": "text"
      },
      "source": [
        "Finding out the n-grams that are present in the data set."
      ]
    },
    {
      "cell_type": "code",
      "metadata": {
        "id": "4Pa8rZ-miPw2",
        "colab_type": "code",
        "colab": {}
      },
      "source": [
        "from nltk.util import ngrams\n",
        "\n",
        "esBigrams = ngrams(words, 2)"
      ],
      "execution_count": 0,
      "outputs": []
    },
    {
      "cell_type": "code",
      "metadata": {
        "id": "D98AsZcisc3t",
        "colab_type": "code",
        "colab": {}
      },
      "source": [
        "import collections\n",
        "esBigramFreq = collections.Counter(esBigrams)"
      ],
      "execution_count": 0,
      "outputs": []
    },
    {
      "cell_type": "code",
      "metadata": {
        "id": "rMrRlnWeslb8",
        "colab_type": "code",
        "outputId": "6185faff-fa24-4208-f739-8f721b73aaac",
        "colab": {
          "base_uri": "https://localhost:8080/",
          "height": 204
        }
      },
      "source": [
        "esBigramFreq.most_common(10)"
      ],
      "execution_count": 17,
      "outputs": [
        {
          "output_type": "execute_result",
          "data": {
            "text/plain": [
              "[(('of', 'the'), 2371),\n",
              " (('in', 'the'), 1272),\n",
              " (('to', 'be'), 946),\n",
              " (('and', 'the'), 866),\n",
              " (('to', 'the'), 845),\n",
              " (('is', 'the'), 616),\n",
              " (('that', 'the'), 466),\n",
              " (('which', 'is'), 448),\n",
              " (('of', 'a'), 432),\n",
              " (('will', 'be'), 393)]"
            ]
          },
          "metadata": {
            "tags": []
          },
          "execution_count": 17
        }
      ]
    },
    {
      "cell_type": "code",
      "metadata": {
        "id": "WBKsbjfyuUQ_",
        "colab_type": "code",
        "colab": {}
      },
      "source": [
        "esTrigrams = ngrams(words, 3)\n",
        "esTrigramFreq = collections.Counter(esTrigrams)"
      ],
      "execution_count": 0,
      "outputs": []
    },
    {
      "cell_type": "code",
      "metadata": {
        "id": "L_-hIXdvuema",
        "colab_type": "code",
        "outputId": "13f4b4fe-28c1-4468-8433-83bddef7ca06",
        "colab": {
          "base_uri": "https://localhost:8080/",
          "height": 204
        }
      },
      "source": [
        "esTrigramFreq.most_common(10)"
      ],
      "execution_count": 19,
      "outputs": [
        {
          "output_type": "execute_result",
          "data": {
            "text/plain": [
              "[(('as', 'well', 'as'), 113),\n",
              " (('to', 'be', 'the'), 109),\n",
              " (('there', 'is', 'no'), 89),\n",
              " (('true,', 'he', 'said.'), 81),\n",
              " (('is', 'to', 'be'), 76),\n",
              " (('which', 'is', 'the'), 76),\n",
              " (('yes,', 'he', 'said,'), 76),\n",
              " (('the', 'idea', 'of'), 75),\n",
              " (('there', 'is', 'a'), 73),\n",
              " (('the', 'nature', 'of'), 70)]"
            ]
          },
          "metadata": {
            "tags": []
          },
          "execution_count": 19
        }
      ]
    },
    {
      "cell_type": "code",
      "metadata": {
        "id": "pfOjPxzmulOh",
        "colab_type": "code",
        "outputId": "2344dfa3-6e50-4ae6-c39e-06b9277edeea",
        "colab": {
          "base_uri": "https://localhost:8080/",
          "height": 204
        }
      },
      "source": [
        "esQuadgrams = ngrams(words, 4)\n",
        "esQuadgramFreq = collections.Counter(esQuadgrams)\n",
        "esQuadgramFreq.most_common(10)"
      ],
      "execution_count": 20,
      "outputs": [
        {
          "output_type": "execute_result",
          "data": {
            "text/plain": [
              "[(('for', 'the', 'sake', 'of'), 28),\n",
              " (('very', 'true,', 'he', 'said.'), 28),\n",
              " (('what', 'do', 'you', 'mean'), 27),\n",
              " (('true,', 'he', 'said.', 'and'), 27),\n",
              " (('the', 'interest', 'of', 'the'), 25),\n",
              " (('at', 'the', 'same', 'time'), 25),\n",
              " (('the', 'idea', 'of', 'good'), 22),\n",
              " (('on', 'the', 'other', 'hand,'), 22),\n",
              " (('the', 'rest', 'of', 'the'), 22),\n",
              " (('yes,', 'he', 'said,', 'that'), 21)]"
            ]
          },
          "metadata": {
            "tags": []
          },
          "execution_count": 20
        }
      ]
    },
    {
      "cell_type": "code",
      "metadata": {
        "id": "h_R-koAHS-Re",
        "colab_type": "code",
        "colab": {}
      },
      "source": [
        "# Dumbest and most basic model using a simple Markov Chain\n",
        "# Principal Random walk\n",
        "# Given a seed word, enter the dictionary entry with that word as a key and \n",
        "# Randomly select any word that is present into it's adjacency list.\n",
        "def build_chain(text, chain = {}):\n",
        "    words = text\n",
        "    index = 1\n",
        "    for word in words[index:]:\n",
        "        key = words[index - 1]\n",
        "        if key in chain:\n",
        "            chain[key].append(word)\n",
        "        else:\n",
        "            chain[key] = [word]\n",
        "        index += 1\n",
        "    return chain"
      ],
      "execution_count": 0,
      "outputs": []
    },
    {
      "cell_type": "markdown",
      "metadata": {
        "id": "y1M3_uBhEyZf",
        "colab_type": "text"
      },
      "source": [
        "## Build a HMM Model "
      ]
    },
    {
      "cell_type": "code",
      "metadata": {
        "id": "5wG6hDhCbbvZ",
        "colab_type": "code",
        "colab": {}
      },
      "source": [
        "import random"
      ],
      "execution_count": 0,
      "outputs": []
    },
    {
      "cell_type": "code",
      "metadata": {
        "id": "GdebXaayVBbB",
        "colab_type": "code",
        "colab": {}
      },
      "source": [
        "def generate_message(key, chain, count = 100):\n",
        "  prediction = chain[key][random.randint(0, len(chain[key]))]\n",
        "  return prediction"
      ],
      "execution_count": 0,
      "outputs": []
    },
    {
      "cell_type": "markdown",
      "metadata": {
        "id": "1iSjXi9rF1wA",
        "colab_type": "text"
      },
      "source": [
        "### Next word prediction using the graph generated by HMM\n",
        "For simplicity, we are using random word selection from the adjacency list."
      ]
    },
    {
      "cell_type": "code",
      "metadata": {
        "id": "80_cuehtbXgR",
        "colab_type": "code",
        "outputId": "7383398e-2784-41ab-d87d-b855527001de",
        "colab": {
          "base_uri": "https://localhost:8080/",
          "height": 36
        }
      },
      "source": [
        "print(generate_message('the', chain, count=1))"
      ],
      "execution_count": 40,
      "outputs": [
        {
          "output_type": "stream",
          "text": [
            "other\n"
          ],
          "name": "stdout"
        }
      ]
    },
    {
      "cell_type": "code",
      "metadata": {
        "id": "iuw-fIsMb0TO",
        "colab_type": "code",
        "colab": {
          "base_uri": "https://localhost:8080/",
          "height": 36
        },
        "outputId": "f7552d1a-ca61-4669-9cb2-297041d5193c"
      },
      "source": [
        "print(generate_message('with', chain, count=1))"
      ],
      "execution_count": 41,
      "outputs": [
        {
          "output_type": "stream",
          "text": [
            "hope\n"
          ],
          "name": "stdout"
        }
      ]
    },
    {
      "cell_type": "code",
      "metadata": {
        "id": "yQ5VvUfhFFW9",
        "colab_type": "code",
        "colab": {
          "base_uri": "https://localhost:8080/",
          "height": 36
        },
        "outputId": "f2a99a80-1b4f-4fd7-d552-2353c7bc957b"
      },
      "source": [
        "print(generate_message('which', chain, count=1))"
      ],
      "execution_count": 42,
      "outputs": [
        {
          "output_type": "stream",
          "text": [
            "discord\n"
          ],
          "name": "stdout"
        }
      ]
    },
    {
      "cell_type": "code",
      "metadata": {
        "id": "NKwilWycFUlN",
        "colab_type": "code",
        "colab": {
          "base_uri": "https://localhost:8080/",
          "height": 36
        },
        "outputId": "ac74b975-8da1-481c-fe85-85477491b6c7"
      },
      "source": [
        "random.randint(0, len(chain['the']))"
      ],
      "execution_count": 34,
      "outputs": [
        {
          "output_type": "execute_result",
          "data": {
            "text/plain": [
              "6136"
            ]
          },
          "metadata": {
            "tags": []
          },
          "execution_count": 34
        }
      ]
    }
  ]
}