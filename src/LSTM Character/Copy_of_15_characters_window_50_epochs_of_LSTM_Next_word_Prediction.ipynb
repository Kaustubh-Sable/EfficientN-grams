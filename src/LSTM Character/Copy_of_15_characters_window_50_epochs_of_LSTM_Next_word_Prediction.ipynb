{
  "nbformat": 4,
  "nbformat_minor": 0,
  "metadata": {
    "colab": {
      "name": "Copy of 15 characters window 50 epochs of LSTM Next word Prediction.ipynb",
      "provenance": [],
      "machine_shape": "hm"
    },
    "kernelspec": {
      "name": "python3",
      "display_name": "Python 3"
    },
    "accelerator": "GPU"
  },
  "cells": [
    {
      "cell_type": "markdown",
      "metadata": {
        "id": "xbMkpD2LSWhr",
        "colab_type": "text"
      },
      "source": [
        "**LSTM Based N-gram predictor**"
      ]
    },
    {
      "cell_type": "code",
      "metadata": {
        "id": "xpuUVK73R-Tv",
        "colab_type": "code",
        "colab": {}
      },
      "source": [
        "import sys\n",
        "import numpy\n",
        "from keras.models import Sequential\n",
        "from keras.layers import Dense\n",
        "from keras.layers import Dropout\n",
        "from keras.layers import LSTM\n",
        "from keras.callbacks import ModelCheckpoint\n",
        "from keras.utils import np_utils"
      ],
      "execution_count": 0,
      "outputs": []
    },
    {
      "cell_type": "code",
      "metadata": {
        "id": "5jMI6W_YVpbN",
        "colab_type": "code",
        "outputId": "7884e494-9caa-4550-9529-c1a56392533b",
        "colab": {
          "base_uri": "https://localhost:8080/",
          "height": 72
        }
      },
      "source": [
        "from google.colab import drive\n",
        "drive.mount('/gdrive')\n",
        "\n",
        "import os\n",
        "\n",
        "print(os.listdir('../gdrive/My Drive/NLP'))\n",
        "os.chdir('../gdrive/My Drive/NLP/')"
      ],
      "execution_count": 0,
      "outputs": [
        {
          "output_type": "stream",
          "text": [
            "Drive already mounted at /gdrive; to attempt to forcibly remount, call drive.mount(\"/gdrive\", force_remount=True).\n",
            "['LSTM', 'weights-improvement-01-2.7840-bigger.hdf5', 'weights-improvement-02-2.4281-bigger.hdf5', 'weights-improvement-03-2.2310-bigger.hdf5', 'weights-improvement-04-2.0931-bigger.hdf5', 'weights-improvement-05-1.9941-bigger.hdf5', 'weights-improvement-06-1.9257-bigger.hdf5', 'weights-improvement-07-1.8625-bigger.hdf5', 'weights-improvement-08-1.8065-bigger.hdf5', 'weights-improvement-09-1.7622-bigger.hdf5', 'weights-improvement-10-1.7197-bigger.hdf5', 'weights-improvement-11-1.6830-bigger.hdf5', 'weights-improvement-12-1.6474-bigger.hdf5', 'weights-improvement-13-1.6155-bigger.hdf5', 'weights-improvement-14-1.5896-bigger.hdf5', 'weights-improvement-15-1.5638-bigger.hdf5', 'weights-improvement-16-1.5373-bigger.hdf5', 'weights-improvement-17-1.5143-bigger.hdf5', 'weights-improvement-18-1.4919-bigger.hdf5', 'weights-improvement-19-1.4732-bigger.hdf5', 'weights-improvement-20-1.4530-bigger.hdf5', 'weights-improvement-21-1.4353-bigger.hdf5', 'weights-improvement-22-1.4188-bigger.hdf5', 'weights-improvement-23-1.4075-bigger.hdf5', 'weights-improvement-24-1.3857-bigger.hdf5', 'weights-improvement-25-1.3749-bigger.hdf5', 'weights-improvement-26-1.3568-bigger.hdf5', 'weights-improvement-27-1.3488-bigger.hdf5', 'weights-improvement-28-1.3331-bigger.hdf5', 'weights-improvement-29-1.3239-bigger.hdf5', 'weights-improvement-30-1.3103-bigger.hdf5', 'weights-improvement-31-1.2986-bigger.hdf5', 'weights-improvement-32-1.2879-bigger.hdf5', 'weights-improvement-33-1.2781-bigger.hdf5', 'weights-improvement-34-1.2693-bigger.hdf5', 'weights-improvement-35-1.2593-bigger.hdf5', 'weights-improvement-36-1.2494-bigger.hdf5', 'weights-improvement-37-1.2405-bigger.hdf5', 'weights-improvement-38-1.2359-bigger.hdf5', 'weights-improvement-39-1.2260-bigger.hdf5', 'weights-improvement-40-1.2156-bigger.hdf5', 'weights-improvement-41-1.2139-bigger.hdf5', 'weights-improvement-42-1.2032-bigger.hdf5', 'weights-improvement-43-1.1976-bigger.hdf5', 'weights-improvement-44-1.1868-bigger.hdf5', 'weights-improvement-46-1.1759-bigger.hdf5', 'weights-improvement-47-1.1716-bigger.hdf5', 'weights-improvement-48-1.1629-bigger.hdf5', 'weights-improvement-49-1.1596-bigger.hdf5', 'weights-improvement-50-1.1542-bigger.hdf5', 'model.json', 'model_50.h5', 'weights-improvement-01-2.3754-bigger.hdf5', 'weights-improvement-02-1.9419-bigger.hdf5', 'weights-improvement-03-1.7930-bigger.hdf5', 'weights-improvement-04-1.7107-bigger.hdf5', 'weights-improvement-05-1.6556-bigger.hdf5', 'weights-improvement-06-1.6133-bigger.hdf5', 'weights-improvement-07-1.5810-bigger.hdf5', 'weights-improvement-08-1.5551-bigger.hdf5', 'weights-improvement-09-1.5326-bigger.hdf5', 'weights-improvement-10-1.5135-bigger.hdf5', 'model_10_char.h5', 'model_10_char.json', 'model.png']\n"
          ],
          "name": "stdout"
        }
      ]
    },
    {
      "cell_type": "code",
      "metadata": {
        "id": "ZQvphhqO1yiR",
        "colab_type": "code",
        "colab": {}
      },
      "source": [
        "!pip install tensorflow-gpu==1.14"
      ],
      "execution_count": 0,
      "outputs": []
    },
    {
      "cell_type": "code",
      "metadata": {
        "id": "Zx7cicsGTiDM",
        "colab_type": "code",
        "colab": {}
      },
      "source": [
        "# load ascii text and covert to lowercase\n",
        "filename = \"LSTM/republic.txt\"\n",
        "raw_text = open(filename, 'r', encoding='utf-8').read()\n",
        "raw_text = raw_text.lower()"
      ],
      "execution_count": 0,
      "outputs": []
    },
    {
      "cell_type": "code",
      "metadata": {
        "id": "CEDLe1NxVHns",
        "colab_type": "code",
        "colab": {}
      },
      "source": [
        "# create mapping of unique chars to integers, and a reverse mapping\n",
        "chars = sorted(list(set(raw_text)))\n",
        "char_to_int = dict((c, i) for i, c in enumerate(chars))\n",
        "int_to_char = dict((i, c) for i, c in enumerate(chars))"
      ],
      "execution_count": 0,
      "outputs": []
    },
    {
      "cell_type": "code",
      "metadata": {
        "id": "wc9R1lVrVL6l",
        "colab_type": "code",
        "outputId": "56be8998-d286-428b-eb85-e3d50999278a",
        "colab": {
          "base_uri": "https://localhost:8080/",
          "height": 52
        }
      },
      "source": [
        "# summarize the loaded data\n",
        "n_chars = len(raw_text)\n",
        "n_vocab = len(chars)\n",
        "print (\"Total Characters: \", n_chars)\n",
        "print (\"Total Vocab: \", n_vocab)"
      ],
      "execution_count": 0,
      "outputs": [
        {
          "output_type": "stream",
          "text": [
            "Total Characters:  1214385\n",
            "Total Vocab:  59\n"
          ],
          "name": "stdout"
        }
      ]
    },
    {
      "cell_type": "code",
      "metadata": {
        "id": "bOMUj3GGV82z",
        "colab_type": "code",
        "colab": {}
      },
      "source": [
        "# prepare the dataset of input to output pairs encoded as integers\n",
        "seq_length = 50\n",
        "dataX = []\n",
        "dataY = []\n",
        "for i in range(0, n_chars - seq_length, 1):\n",
        "\tseq_in = raw_text[i:i + seq_length]\n",
        "\tseq_out = raw_text[i + seq_length]\n",
        "\tdataX.append([char_to_int[char] for char in seq_in])\n",
        "\tdataY.append(char_to_int[seq_out])\n",
        "n_patterns = len(dataX)"
      ],
      "execution_count": 0,
      "outputs": []
    },
    {
      "cell_type": "code",
      "metadata": {
        "id": "0Xa-2IJDXxpI",
        "colab_type": "code",
        "outputId": "cdf80f7d-0a28-4393-9e9d-acc4b58389d8",
        "colab": {
          "base_uri": "https://localhost:8080/",
          "height": 35
        }
      },
      "source": [
        "n_patterns = len(dataX)\n",
        "print (\"Total Patterns: \", n_patterns)"
      ],
      "execution_count": 0,
      "outputs": [
        {
          "output_type": "stream",
          "text": [
            "Total Patterns:  1214335\n"
          ],
          "name": "stdout"
        }
      ]
    },
    {
      "cell_type": "code",
      "metadata": {
        "id": "VGWue9swX0oh",
        "colab_type": "code",
        "colab": {}
      },
      "source": [
        "# reshape X to be [samples, time steps, features]\n",
        "X = numpy.reshape(dataX, (n_patterns, seq_length, 1))\n",
        "# normalize\n",
        "X = X / float(n_vocab)"
      ],
      "execution_count": 0,
      "outputs": []
    },
    {
      "cell_type": "code",
      "metadata": {
        "id": "NQykaMQrZKdb",
        "colab_type": "code",
        "outputId": "07e54f87-ed20-4f04-c5db-608c9e1c3df7",
        "colab": {
          "base_uri": "https://localhost:8080/",
          "height": 232
        }
      },
      "source": [
        "# one hot encode the output variable\n",
        "y = np_utils.to_categorical(dataY)\n",
        "# define the LSTM model\n",
        "model = Sequential()\n",
        "model.add(LSTM(256, input_shape=(X.shape[1], X.shape[2]), return_sequences=True))\n",
        "model.add(Dropout(0.2))\n",
        "model.add(LSTM(256))\n",
        "model.add(Dropout(0.2))\n",
        "model.add(Dense(y.shape[1], activation='softmax'))"
      ],
      "execution_count": 0,
      "outputs": [
        {
          "output_type": "stream",
          "text": [
            "WARNING:tensorflow:From /usr/local/lib/python3.6/dist-packages/keras/backend/tensorflow_backend.py:66: The name tf.get_default_graph is deprecated. Please use tf.compat.v1.get_default_graph instead.\n",
            "\n",
            "WARNING:tensorflow:From /usr/local/lib/python3.6/dist-packages/keras/backend/tensorflow_backend.py:541: The name tf.placeholder is deprecated. Please use tf.compat.v1.placeholder instead.\n",
            "\n",
            "WARNING:tensorflow:From /usr/local/lib/python3.6/dist-packages/keras/backend/tensorflow_backend.py:4432: The name tf.random_uniform is deprecated. Please use tf.random.uniform instead.\n",
            "\n",
            "WARNING:tensorflow:From /usr/local/lib/python3.6/dist-packages/keras/backend/tensorflow_backend.py:148: The name tf.placeholder_with_default is deprecated. Please use tf.compat.v1.placeholder_with_default instead.\n",
            "\n",
            "WARNING:tensorflow:From /usr/local/lib/python3.6/dist-packages/keras/backend/tensorflow_backend.py:3733: calling dropout (from tensorflow.python.ops.nn_ops) with keep_prob is deprecated and will be removed in a future version.\n",
            "Instructions for updating:\n",
            "Please use `rate` instead of `keep_prob`. Rate should be set to `rate = 1 - keep_prob`.\n"
          ],
          "name": "stdout"
        }
      ]
    },
    {
      "cell_type": "code",
      "metadata": {
        "id": "02cB2IJRZLjW",
        "colab_type": "code",
        "outputId": "bb6e8af5-75bc-4e55-895c-afb860d81cbd",
        "colab": {
          "base_uri": "https://localhost:8080/",
          "height": 1000
        }
      },
      "source": [
        "model.compile(loss='categorical_crossentropy', optimizer='adam', metrics=['accuracy'])\n",
        "# define the checkpoint\n",
        "filepath=\"weights-improvement-{epoch:02d}-{loss:.4f}-bigger.hdf5\"\n",
        "checkpoint = ModelCheckpoint(filepath, monitor='loss', verbose=1, save_best_only=True, mode='min')\n",
        "callbacks_list = [checkpoint]\n",
        "# fit the model\n",
        "history = model.fit(X, y, validation_split=0.2, epochs=50, batch_size=10000, callbacks=callbacks_list)"
      ],
      "execution_count": 0,
      "outputs": [
        {
          "output_type": "stream",
          "text": [
            "Train on 971468 samples, validate on 242867 samples\n",
            "Epoch 1/50\n",
            "971468/971468 [==============================] - 144s 148us/step - loss: 2.2014 - acc: 0.3683 - val_loss: 2.0988 - val_acc: 0.3963\n",
            "\n",
            "Epoch 00001: loss improved from inf to 2.20144, saving model to weights-improvement-01-2.2014-bigger.hdf5\n",
            "Epoch 2/50\n",
            "971468/971468 [==============================] - 142s 146us/step - loss: 2.1405 - acc: 0.3849 - val_loss: 2.0744 - val_acc: 0.4019\n",
            "\n",
            "Epoch 00002: loss improved from 2.20144 to 2.14049, saving model to weights-improvement-02-2.1405-bigger.hdf5\n",
            "Epoch 3/50\n",
            "971468/971468 [==============================] - 142s 146us/step - loss: 2.1191 - acc: 0.3910 - val_loss: 2.0646 - val_acc: 0.4081\n",
            "\n",
            "Epoch 00003: loss improved from 2.14049 to 2.11907, saving model to weights-improvement-03-2.1191-bigger.hdf5\n",
            "Epoch 4/50\n",
            "971468/971468 [==============================] - 142s 146us/step - loss: 2.0970 - acc: 0.3972 - val_loss: 2.0456 - val_acc: 0.4152\n",
            "\n",
            "Epoch 00004: loss improved from 2.11907 to 2.09695, saving model to weights-improvement-04-2.0970-bigger.hdf5\n",
            "Epoch 5/50\n",
            "971468/971468 [==============================] - 142s 146us/step - loss: 2.0702 - acc: 0.4057 - val_loss: 1.9996 - val_acc: 0.4266\n",
            "\n",
            "Epoch 00005: loss improved from 2.09695 to 2.07015, saving model to weights-improvement-05-2.0702-bigger.hdf5\n",
            "Epoch 6/50\n",
            "971468/971468 [==============================] - 142s 146us/step - loss: 2.0477 - acc: 0.4116 - val_loss: 1.9778 - val_acc: 0.4335\n",
            "\n",
            "Epoch 00006: loss improved from 2.07015 to 2.04774, saving model to weights-improvement-06-2.0477-bigger.hdf5\n",
            "Epoch 7/50\n",
            "971468/971468 [==============================] - 142s 146us/step - loss: 2.0279 - acc: 0.4175 - val_loss: 1.9586 - val_acc: 0.4397\n",
            "\n",
            "Epoch 00007: loss improved from 2.04774 to 2.02786, saving model to weights-improvement-07-2.0279-bigger.hdf5\n",
            "Epoch 8/50\n",
            "971468/971468 [==============================] - 142s 146us/step - loss: 2.0051 - acc: 0.4239 - val_loss: 1.9415 - val_acc: 0.4448\n",
            "\n",
            "Epoch 00008: loss improved from 2.02786 to 2.00507, saving model to weights-improvement-08-2.0051-bigger.hdf5\n",
            "Epoch 9/50\n",
            "971468/971468 [==============================] - 142s 146us/step - loss: 1.9984 - acc: 0.4260 - val_loss: 1.9230 - val_acc: 0.4493\n",
            "\n",
            "Epoch 00009: loss improved from 2.00507 to 1.99842, saving model to weights-improvement-09-1.9984-bigger.hdf5\n",
            "Epoch 10/50\n",
            "971468/971468 [==============================] - 142s 146us/step - loss: 1.9680 - acc: 0.4345 - val_loss: 1.9021 - val_acc: 0.4566\n",
            "\n",
            "Epoch 00010: loss improved from 1.99842 to 1.96796, saving model to weights-improvement-10-1.9680-bigger.hdf5\n",
            "Epoch 11/50\n",
            "971468/971468 [==============================] - 142s 146us/step - loss: 1.9520 - acc: 0.4389 - val_loss: 1.8865 - val_acc: 0.4607\n",
            "\n",
            "Epoch 00011: loss improved from 1.96796 to 1.95203, saving model to weights-improvement-11-1.9520-bigger.hdf5\n",
            "Epoch 12/50\n",
            "971468/971468 [==============================] - 142s 146us/step - loss: 1.9459 - acc: 0.4407 - val_loss: 1.8752 - val_acc: 0.4636\n",
            "\n",
            "Epoch 00012: loss improved from 1.95203 to 1.94589, saving model to weights-improvement-12-1.9459-bigger.hdf5\n",
            "Epoch 13/50\n",
            "971468/971468 [==============================] - 143s 147us/step - loss: 1.9220 - acc: 0.4478 - val_loss: 1.8670 - val_acc: 0.4647\n",
            "\n",
            "Epoch 00013: loss improved from 1.94589 to 1.92200, saving model to weights-improvement-13-1.9220-bigger.hdf5\n",
            "Epoch 14/50\n",
            "971468/971468 [==============================] - 146s 151us/step - loss: 1.9065 - acc: 0.4520 - val_loss: 1.8512 - val_acc: 0.4719\n",
            "\n",
            "Epoch 00014: loss improved from 1.92200 to 1.90649, saving model to weights-improvement-14-1.9065-bigger.hdf5\n",
            "Epoch 15/50\n",
            "971468/971468 [==============================] - 146s 151us/step - loss: 1.9121 - acc: 0.4502 - val_loss: 1.8396 - val_acc: 0.4743\n",
            "\n",
            "Epoch 00015: loss did not improve from 1.90649\n",
            "Epoch 16/50\n",
            "971468/971468 [==============================] - 146s 151us/step - loss: 1.8772 - acc: 0.4606 - val_loss: 1.8221 - val_acc: 0.4796\n",
            "\n",
            "Epoch 00016: loss improved from 1.90649 to 1.87724, saving model to weights-improvement-16-1.8772-bigger.hdf5\n",
            "Epoch 17/50\n",
            "971468/971468 [==============================] - 147s 151us/step - loss: 1.8675 - acc: 0.4632 - val_loss: 1.8127 - val_acc: 0.4825\n",
            "\n",
            "Epoch 00017: loss improved from 1.87724 to 1.86751, saving model to weights-improvement-17-1.8675-bigger.hdf5\n",
            "Epoch 18/50\n",
            "971468/971468 [==============================] - 146s 151us/step - loss: 1.8588 - acc: 0.4653 - val_loss: 1.8093 - val_acc: 0.4837\n",
            "\n",
            "Epoch 00018: loss improved from 1.86751 to 1.85878, saving model to weights-improvement-18-1.8588-bigger.hdf5\n",
            "Epoch 19/50\n",
            "971468/971468 [==============================] - 147s 151us/step - loss: 1.8486 - acc: 0.4680 - val_loss: 1.7956 - val_acc: 0.4867\n",
            "\n",
            "Epoch 00019: loss improved from 1.85878 to 1.84862, saving model to weights-improvement-19-1.8486-bigger.hdf5\n",
            "Epoch 20/50\n",
            "971468/971468 [==============================] - 146s 151us/step - loss: 1.8590 - acc: 0.4647 - val_loss: 1.8512 - val_acc: 0.4705\n",
            "\n",
            "Epoch 00020: loss did not improve from 1.84862\n",
            "Epoch 21/50\n",
            "971468/971468 [==============================] - 147s 151us/step - loss: 1.8300 - acc: 0.4736 - val_loss: 1.7879 - val_acc: 0.4885\n",
            "\n",
            "Epoch 00021: loss improved from 1.84862 to 1.82996, saving model to weights-improvement-21-1.8300-bigger.hdf5\n",
            "Epoch 22/50\n",
            "971468/971468 [==============================] - 146s 151us/step - loss: 1.8149 - acc: 0.4774 - val_loss: 1.7667 - val_acc: 0.4946\n",
            "\n",
            "Epoch 00022: loss improved from 1.82996 to 1.81489, saving model to weights-improvement-22-1.8149-bigger.hdf5\n",
            "Epoch 23/50\n",
            "971468/971468 [==============================] - 146s 151us/step - loss: 1.8052 - acc: 0.4804 - val_loss: 1.7676 - val_acc: 0.4957\n",
            "\n",
            "Epoch 00023: loss improved from 1.81489 to 1.80516, saving model to weights-improvement-23-1.8052-bigger.hdf5\n",
            "Epoch 24/50\n",
            "971468/971468 [==============================] - 146s 151us/step - loss: 1.8002 - acc: 0.4819 - val_loss: 1.7634 - val_acc: 0.4955\n",
            "\n",
            "Epoch 00024: loss improved from 1.80516 to 1.80024, saving model to weights-improvement-24-1.8002-bigger.hdf5\n",
            "Epoch 25/50\n",
            "971468/971468 [==============================] - 146s 151us/step - loss: 1.7924 - acc: 0.4837 - val_loss: 1.7467 - val_acc: 0.5006\n",
            "\n",
            "Epoch 00025: loss improved from 1.80024 to 1.79243, saving model to weights-improvement-25-1.7924-bigger.hdf5\n",
            "Epoch 26/50\n",
            "971468/971468 [==============================] - 146s 151us/step - loss: 1.7909 - acc: 0.4842 - val_loss: 1.7739 - val_acc: 0.4930\n",
            "\n",
            "Epoch 00026: loss improved from 1.79243 to 1.79092, saving model to weights-improvement-26-1.7909-bigger.hdf5\n",
            "Epoch 27/50\n",
            "971468/971468 [==============================] - 146s 151us/step - loss: 1.7725 - acc: 0.4894 - val_loss: 1.7532 - val_acc: 0.4989\n",
            "\n",
            "Epoch 00027: loss improved from 1.79092 to 1.77252, saving model to weights-improvement-27-1.7725-bigger.hdf5\n",
            "Epoch 28/50\n",
            "971468/971468 [==============================] - 146s 151us/step - loss: 1.7671 - acc: 0.4903 - val_loss: 1.7651 - val_acc: 0.4962\n",
            "\n",
            "Epoch 00028: loss improved from 1.77252 to 1.76706, saving model to weights-improvement-28-1.7671-bigger.hdf5\n",
            "Epoch 29/50\n",
            "971468/971468 [==============================] - 146s 151us/step - loss: 1.8031 - acc: 0.4805 - val_loss: 1.7390 - val_acc: 0.5036\n",
            "\n",
            "Epoch 00029: loss did not improve from 1.76706\n",
            "Epoch 30/50\n",
            "971468/971468 [==============================] - 146s 151us/step - loss: 1.7538 - acc: 0.4944 - val_loss: 1.7124 - val_acc: 0.5108\n",
            "\n",
            "Epoch 00030: loss improved from 1.76706 to 1.75379, saving model to weights-improvement-30-1.7538-bigger.hdf5\n",
            "Epoch 31/50\n",
            "971468/971468 [==============================] - 146s 151us/step - loss: 1.7439 - acc: 0.4971 - val_loss: 1.7111 - val_acc: 0.5108\n",
            "\n",
            "Epoch 00031: loss improved from 1.75379 to 1.74391, saving model to weights-improvement-31-1.7439-bigger.hdf5\n",
            "Epoch 32/50\n",
            "971468/971468 [==============================] - 146s 151us/step - loss: 1.7376 - acc: 0.4988 - val_loss: 1.7036 - val_acc: 0.5140\n",
            "\n",
            "Epoch 00032: loss improved from 1.74391 to 1.73758, saving model to weights-improvement-32-1.7376-bigger.hdf5\n",
            "Epoch 33/50\n",
            "971468/971468 [==============================] - 146s 151us/step - loss: 1.7300 - acc: 0.5011 - val_loss: 1.6971 - val_acc: 0.5149\n",
            "\n",
            "Epoch 00033: loss improved from 1.73758 to 1.73002, saving model to weights-improvement-33-1.7300-bigger.hdf5\n",
            "Epoch 34/50\n",
            "971468/971468 [==============================] - 146s 151us/step - loss: 1.7378 - acc: 0.4988 - val_loss: 1.6947 - val_acc: 0.5150\n",
            "\n",
            "Epoch 00034: loss did not improve from 1.73002\n",
            "Epoch 35/50\n",
            "971468/971468 [==============================] - 146s 151us/step - loss: 1.7201 - acc: 0.5033 - val_loss: 1.6920 - val_acc: 0.5161\n",
            "\n",
            "Epoch 00035: loss improved from 1.73002 to 1.72009, saving model to weights-improvement-35-1.7201-bigger.hdf5\n",
            "Epoch 36/50\n",
            "971468/971468 [==============================] - 146s 151us/step - loss: 1.7133 - acc: 0.5052 - val_loss: 1.6844 - val_acc: 0.5172\n",
            "\n",
            "Epoch 00036: loss improved from 1.72009 to 1.71329, saving model to weights-improvement-36-1.7133-bigger.hdf5\n",
            "Epoch 37/50\n",
            "971468/971468 [==============================] - 146s 151us/step - loss: 1.7115 - acc: 0.5060 - val_loss: 1.6814 - val_acc: 0.5187\n",
            "\n",
            "Epoch 00037: loss improved from 1.71329 to 1.71148, saving model to weights-improvement-37-1.7115-bigger.hdf5\n",
            "Epoch 38/50\n",
            "971468/971468 [==============================] - 146s 151us/step - loss: 1.7019 - acc: 0.5082 - val_loss: 1.6738 - val_acc: 0.5216\n",
            "\n",
            "Epoch 00038: loss improved from 1.71148 to 1.70192, saving model to weights-improvement-38-1.7019-bigger.hdf5\n",
            "Epoch 39/50\n",
            "971468/971468 [==============================] - 146s 151us/step - loss: 1.7884 - acc: 0.4847 - val_loss: 1.6753 - val_acc: 0.5206\n",
            "\n",
            "Epoch 00039: loss did not improve from 1.70192\n",
            "Epoch 40/50\n",
            "971468/971468 [==============================] - 146s 151us/step - loss: 1.6932 - acc: 0.5110 - val_loss: 1.6804 - val_acc: 0.5189\n",
            "\n",
            "Epoch 00040: loss improved from 1.70192 to 1.69315, saving model to weights-improvement-40-1.6932-bigger.hdf5\n",
            "Epoch 41/50\n",
            "971468/971468 [==============================] - 146s 151us/step - loss: 1.6876 - acc: 0.5125 - val_loss: 1.6666 - val_acc: 0.5232\n",
            "\n",
            "Epoch 00041: loss improved from 1.69315 to 1.68761, saving model to weights-improvement-41-1.6876-bigger.hdf5\n",
            "Epoch 42/50\n",
            "971468/971468 [==============================] - 146s 151us/step - loss: 1.6823 - acc: 0.5140 - val_loss: 1.6643 - val_acc: 0.5235\n",
            "\n",
            "Epoch 00042: loss improved from 1.68761 to 1.68227, saving model to weights-improvement-42-1.6823-bigger.hdf5\n",
            "Epoch 43/50\n",
            "971468/971468 [==============================] - 146s 151us/step - loss: 1.6791 - acc: 0.5147 - val_loss: 1.6567 - val_acc: 0.5271\n",
            "\n",
            "Epoch 00043: loss improved from 1.68227 to 1.67911, saving model to weights-improvement-43-1.6791-bigger.hdf5\n",
            "Epoch 44/50\n",
            "971468/971468 [==============================] - 146s 151us/step - loss: 1.6783 - acc: 0.5145 - val_loss: 1.6524 - val_acc: 0.5272\n",
            "\n",
            "Epoch 00044: loss improved from 1.67911 to 1.67834, saving model to weights-improvement-44-1.6783-bigger.hdf5\n",
            "Epoch 45/50\n",
            "971468/971468 [==============================] - 146s 151us/step - loss: 1.6787 - acc: 0.5140 - val_loss: 1.6481 - val_acc: 0.5286\n",
            "\n",
            "Epoch 00045: loss did not improve from 1.67834\n",
            "Epoch 46/50\n",
            "971468/971468 [==============================] - 146s 151us/step - loss: 1.6654 - acc: 0.5182 - val_loss: 1.6895 - val_acc: 0.5155\n",
            "\n",
            "Epoch 00046: loss improved from 1.67834 to 1.66536, saving model to weights-improvement-46-1.6654-bigger.hdf5\n",
            "Epoch 47/50\n",
            "971468/971468 [==============================] - 146s 151us/step - loss: 1.6647 - acc: 0.5180 - val_loss: 1.6403 - val_acc: 0.5301\n",
            "\n",
            "Epoch 00047: loss improved from 1.66536 to 1.66473, saving model to weights-improvement-47-1.6647-bigger.hdf5\n",
            "Epoch 48/50\n",
            "971468/971468 [==============================] - 146s 151us/step - loss: 1.6571 - acc: 0.5201 - val_loss: 1.6449 - val_acc: 0.5292\n",
            "\n",
            "Epoch 00048: loss improved from 1.66473 to 1.65713, saving model to weights-improvement-48-1.6571-bigger.hdf5\n",
            "Epoch 49/50\n",
            "971468/971468 [==============================] - 146s 151us/step - loss: 1.6862 - acc: 0.5116 - val_loss: 1.6533 - val_acc: 0.5262\n",
            "\n",
            "Epoch 00049: loss did not improve from 1.65713\n",
            "Epoch 50/50\n",
            "971468/971468 [==============================] - 146s 151us/step - loss: 1.6506 - acc: 0.5218 - val_loss: 1.6320 - val_acc: 0.5326\n",
            "\n",
            "Epoch 00050: loss improved from 1.65713 to 1.65060, saving model to weights-improvement-50-1.6506-bigger.hdf5\n"
          ],
          "name": "stdout"
        }
      ]
    },
    {
      "cell_type": "code",
      "metadata": {
        "id": "--mwKuhTeEiE",
        "colab_type": "code",
        "outputId": "51b082bb-a76d-4e7c-bafa-a6c326bbe2af",
        "colab": {
          "base_uri": "https://localhost:8080/",
          "height": 35
        }
      },
      "source": [
        "import gc\n",
        "gc.collect()"
      ],
      "execution_count": 0,
      "outputs": [
        {
          "output_type": "execute_result",
          "data": {
            "text/plain": [
              "354"
            ]
          },
          "metadata": {
            "tags": []
          },
          "execution_count": 13
        }
      ]
    },
    {
      "cell_type": "code",
      "metadata": {
        "id": "BsgTgbsKaH8k",
        "colab_type": "code",
        "outputId": "9a79a7dc-dd55-47da-8505-815856e5601d",
        "colab": {
          "base_uri": "https://localhost:8080/",
          "height": 35
        }
      },
      "source": [
        "# serialize model to JSON\n",
        "from keras.models import Sequential\n",
        "from keras.layers import Dense\n",
        "from keras.models import model_from_json\n",
        "import numpy\n",
        "import os\n",
        "\n",
        "model_json = model.to_json()\n",
        "with open(\"model_10000.json\", \"w\") as json_file:\n",
        "    json_file.write(model_json)\n",
        "# serialize weights to HDF5\n",
        "model.save_weights(\"model_1000.h5\")\n",
        "print(\"Saved model to disk\")"
      ],
      "execution_count": 21,
      "outputs": [
        {
          "output_type": "stream",
          "text": [
            "Saved model to disk\n"
          ],
          "name": "stdout"
        }
      ]
    },
    {
      "cell_type": "code",
      "metadata": {
        "id": "lSf-CBwVlsK9",
        "colab_type": "code",
        "outputId": "09be8e1d-36da-4912-8c00-fd11d47ec3f5",
        "colab": {
          "base_uri": "https://localhost:8080/",
          "height": 573
        }
      },
      "source": [
        "import matplotlib.pyplot as plt\n",
        "\n",
        "#history = model.fit(x, y, validation_split=0.25, epochs=50, batch_size=16, verbose=1)\n",
        "\n",
        "# Plot training & validation accuracy values\n",
        "plt.plot(history.history['acc'])\n",
        "plt.plot(history.history['val_acc'])\n",
        "plt.title('Model accuracy')\n",
        "plt.ylabel('Accuracy')\n",
        "plt.xlabel('Epoch')\n",
        "plt.legend(['Train', 'Test'], loc='upper left')\n",
        "plt.show()\n",
        "\n",
        "# Plot training & validation loss values\n",
        "plt.plot(history.history['loss'])\n",
        "plt.plot(history.history['val_loss'])\n",
        "plt.title('Model loss')\n",
        "plt.ylabel('Loss')\n",
        "plt.xlabel('Epoch')\n",
        "plt.legend(['Train', 'Test'], loc='upper left')\n",
        "plt.show()"
      ],
      "execution_count": 19,
      "outputs": [
        {
          "output_type": "display_data",
          "data": {
            "image/png": "[encoded data removed]",
            "text/plain": [
              "<Figure size 432x288 with 1 Axes>"
            ]
          },
          "metadata": {
            "tags": []
          }
        },
        {
          "output_type": "display_data",
          "data": {
            "image/png": "[encoded data removed]",
            "text/plain": [
              "<Figure size 432x288 with 1 Axes>"
            ]
          },
          "metadata": {
            "tags": []
          }
        }
      ]
    },
    {
      "cell_type": "code",
      "metadata": {
        "id": "a3SLUwxa3y-n",
        "colab_type": "code",
        "colab": {}
      },
      "source": [
        "# load the network weights\n",
        "\"\"\"filename = \"model_50.h5\"\n",
        "model.load_weights(filename)\n",
        "model.compile(loss='categorical_crossentropy', optimizer='adam')\"\"\""
      ],
      "execution_count": 0,
      "outputs": []
    },
    {
      "cell_type": "code",
      "metadata": {
        "id": "KtrHwbP0vOYO",
        "colab_type": "code",
        "outputId": "45eadf24-8e6a-49f9-9cb0-b2cf6e0ee962",
        "colab": {
          "base_uri": "https://localhost:8080/",
          "height": 35
        }
      },
      "source": [
        "model"
      ],
      "execution_count": 0,
      "outputs": [
        {
          "output_type": "execute_result",
          "data": {
            "text/plain": [
              "<keras.engine.sequential.Sequential at 0x7f031d645940>"
            ]
          },
          "metadata": {
            "tags": []
          },
          "execution_count": 37
        }
      ]
    },
    {
      "cell_type": "code",
      "metadata": {
        "id": "ZkgmWQMHFkWr",
        "colab_type": "code",
        "outputId": "01400931-c446-4ebc-9ddb-e77a3c3534c1",
        "colab": {
          "base_uri": "https://localhost:8080/",
          "height": 235
        }
      },
      "source": [
        "# We will remove double quotes, !, ? $, #, etc\n",
        "# specify to translate chars \n",
        "str1 = \"\"\n",
        "# specify to replace with \n",
        "str2 = \"\"\n",
        "# delete chars \n",
        "str3 = \"\\\"!?#$%^&*+\"\n",
        "\n",
        "trg = raw_text\n",
        "table = trg.maketrans(str1, str2, str3)\n",
        "raw_text = trg.translate(table)\n",
        "\n",
        "print(len(raw_text))\n",
        "\n",
        "\n",
        "words = raw_text.split()\n",
        "print (len(words))\n",
        "\n",
        "words = [word.lower() for word in words]\n",
        "\n",
        "import nltk\n",
        "freq_dist = nltk.FreqDist(words)\n",
        "\n",
        "\n",
        "from nltk.util import ngrams\n",
        "\n",
        "esBigrams = ngrams(words, 2)\n",
        "\n",
        "\n",
        "import collections\n",
        "esBigramFreq = collections.Counter(esBigrams)\n",
        "\n",
        "\n",
        "esTrigrams = ngrams(words, 3)\n",
        "esTrigramFreq = collections.Counter(esTrigrams)\n",
        "\n",
        "esTrigramFreq.most_common(10)"
      ],
      "execution_count": 0,
      "outputs": [
        {
          "output_type": "stream",
          "text": [
            "143582\n",
            "26387\n"
          ],
          "name": "stdout"
        },
        {
          "output_type": "execute_result",
          "data": {
            "text/plain": [
              "[(('the', 'mock', 'turtle'), 31),\n",
              " (('said', 'the', 'mock'), 19),\n",
              " (('she', 'said', 'to'), 17),\n",
              " (('one', 'of', 'the'), 15),\n",
              " (('the', 'march', 'hare'), 15),\n",
              " (('said', 'the', 'caterpillar.'), 12),\n",
              " (('out', 'of', 'the'), 11),\n",
              " (('the', 'white', 'rabbit'), 11),\n",
              " (('there', 'was', 'a'), 11),\n",
              " (('a', 'minute', 'or'), 11)]"
            ]
          },
          "metadata": {
            "tags": []
          },
          "execution_count": 38
        }
      ]
    },
    {
      "cell_type": "code",
      "metadata": {
        "id": "CiJMxLW3lflL",
        "colab_type": "code",
        "colab": {}
      },
      "source": [
        ""
      ],
      "execution_count": 0,
      "outputs": []
    },
    {
      "cell_type": "code",
      "metadata": {
        "id": "vY_7huMb9Lr6",
        "colab_type": "code",
        "outputId": "de8e7634-5022-4551-d52e-fd1b8ef9a88d",
        "colab": {
          "base_uri": "https://localhost:8080/",
          "height": 199
        }
      },
      "source": [
        "esBigramFreq.most_common(10)"
      ],
      "execution_count": 0,
      "outputs": [
        {
          "output_type": "execute_result",
          "data": {
            "text/plain": [
              "[(('said', 'the'), 207),\n",
              " (('of', 'the'), 128),\n",
              " (('in', 'a'), 97),\n",
              " (('in', 'the'), 78),\n",
              " (('and', 'the'), 77),\n",
              " (('to', 'the'), 69),\n",
              " (('as', 'she'), 60),\n",
              " (('at', 'the'), 60),\n",
              " (('she', 'had'), 57),\n",
              " (('it', 'was'), 55)]"
            ]
          },
          "metadata": {
            "tags": []
          },
          "execution_count": 39
        }
      ]
    },
    {
      "cell_type": "code",
      "metadata": {
        "id": "4Nouwhb09Sst",
        "colab_type": "code",
        "outputId": "2ed07718-cf2f-4442-e542-1afccb4862ee",
        "colab": {
          "base_uri": "https://localhost:8080/",
          "height": 199
        }
      },
      "source": [
        "esTrigramFreq.most_common(10)"
      ],
      "execution_count": 0,
      "outputs": [
        {
          "output_type": "execute_result",
          "data": {
            "text/plain": [
              "[(('the', 'mock', 'turtle'), 31),\n",
              " (('said', 'the', 'mock'), 19),\n",
              " (('she', 'said', 'to'), 17),\n",
              " (('one', 'of', 'the'), 15),\n",
              " (('the', 'march', 'hare'), 15),\n",
              " (('said', 'the', 'caterpillar.'), 12),\n",
              " (('out', 'of', 'the'), 11),\n",
              " (('the', 'white', 'rabbit'), 11),\n",
              " (('there', 'was', 'a'), 11),\n",
              " (('a', 'minute', 'or'), 11)]"
            ]
          },
          "metadata": {
            "tags": []
          },
          "execution_count": 40
        }
      ]
    },
    {
      "cell_type": "code",
      "metadata": {
        "id": "gfy7-_IY9WGX",
        "colab_type": "code",
        "colab": {}
      },
      "source": [
        "prev = [char_to_int[value] for value in \"and \"]\n",
        "temp = [1]*15\n",
        "temp[-len(prev):] = prev\n",
        "patternX = temp"
      ],
      "execution_count": 0,
      "outputs": []
    },
    {
      "cell_type": "code",
      "metadata": {
        "id": "TF2BzjFjHLch",
        "colab_type": "code",
        "outputId": "aa3cde51-134e-4ca9-b07f-f3105af7987a",
        "colab": {
          "base_uri": "https://localhost:8080/",
          "height": 108
        }
      },
      "source": [
        "print (\"Seed:\")\n",
        "print (\"\\\"\", ''.join([int_to_char[value] for value in patternX]), \"\\\"\")\n",
        "# generate characters\n",
        "for i in range(6):\n",
        "\tx = numpy.reshape(patternX, (1, len(patternX), 1))\n",
        "\tx = x / float(n_vocab)\n",
        "\tprediction = model.predict(x, verbose=0)\n",
        "\tindex = numpy.argmax(prediction)\n",
        "\tresult = int_to_char[index]\n",
        "\tseq_in = [int_to_char[value] for value in patternX]\n",
        "\t#print(result)\n",
        "\tsys.stdout.write(result)\n",
        "\tpatternX.append(index)\n",
        "\tpatternX = patternX[1:len(patternX)]\n",
        "print (\"\\nDone.\")\n",
        "\n",
        "print (\"\\\"\", ''.join([int_to_char[value] for value in patternX]), \"\\\"\")"
      ],
      "execution_count": 0,
      "outputs": [
        {
          "output_type": "stream",
          "text": [
            "Seed:\n",
            "\"            and  \"\n",
            "      \n",
            "Done.\n",
            "\"      and        \"\n"
          ],
          "name": "stdout"
        }
      ]
    },
    {
      "cell_type": "code",
      "metadata": {
        "id": "pg4cpDeoHhKz",
        "colab_type": "code",
        "colab": {}
      },
      "source": [
        ""
      ],
      "execution_count": 0,
      "outputs": []
    }
  ]
}